{
 "cells": [
  {
   "cell_type": "markdown",
   "metadata": {},
   "source": [
    "# **Lecture 3: Exploratory Data Analysis (EDA) in Agriculture**"
   ]
  },
  {
   "cell_type": "markdown",
   "metadata": {},
   "source": [
    "## Definition and Importance of EDA\n",
    "\n",
    "Exploratory Data Analysis (EDA) is an essential initial step in the data analysis process. It involves visualizing, summarizing, and interpreting the information that is hidden in rows and columns of data. The main aim of EDA is to understand the data, identify anomalies or outliers, uncover patterns, and extract valuable insights. This, in turn, provides a solid foundation for the subsequent analytical or modeling activities.\n",
    "\n",
    "## Types of Data in Agriculture\n",
    "\n",
    "There are various types of data that researchers and professionals in agriculture frequently encounter:\n",
    "\n",
    "- **Categorical Data**: This data type represents categories or labels. It can be further divided into nominal (e.g., crop types like wheat, rice, maize) and ordinal data (e.g., low, medium, high).\n",
    "\n",
    "- **Numerical Data**: Represents numbers, and can be either discrete (e.g., number of farms) or continuous (e.g., rainfall in mm).\n",
    "\n",
    "- **Time-series Data**: Observations recorded at regular time intervals. For instance, the monthly prices of a commodity over several years.\n",
    "\n",
    "- **Cross-sectional Data**: Observations recorded at the same point in time. An example could be the agricultural yield of different farms in a particular year.\n",
    "\n",
    "- **Panel Data**: This is a combination of time-series and cross-sectional data. For example, observing the yields of multiple farms over multiple years.\n",
    "\n",
    "To help differentiate these data types further, here's a simple table:\n",
    "\n",
    "| Data Type        | Description                                           | Example                                       |\n",
    "|------------------|-------------------------------------------------------|-----------------------------------------------|\n",
    "| Categorical      | Represents categories or labels                        | Crop types: Wheat, Rice                       |\n",
    "| Numerical        | Represents numbers                                     | Rainfall in mm, Number of farms               |\n",
    "| Time-series      | Observations over regular intervals                   | Monthly commodity prices over several years   |\n",
    "| Cross-sectional  | Observations at a specific point in time               | Agricultural yield of farms in a given year   |\n",
    "| Panel            | Combination of time-series and cross-sectional data    | Yields of multiple farms over several years   |"
   ]
  },
  {
   "cell_type": "markdown",
   "metadata": {},
   "source": [
    "## Statistical Summaries in EDA\n",
    "\n",
    "### Descriptive Statistics\n",
    "\n",
    "Before proceeding with any analytical approach, understanding the basic statistical properties of the dataset is essential. This process provides a snapshot of central tendencies, spread, and shape of the dataset's distribution."
   ]
  },
  {
   "cell_type": "code",
   "execution_count": 1,
   "metadata": {},
   "outputs": [
    {
     "name": "stdout",
     "output_type": "stream",
     "text": [
      "     total_bill   tip     sex smoker   day    time  size\n",
      "0         16.99  1.01  Female     No   Sun  Dinner     2\n",
      "1         10.34  1.66    Male     No   Sun  Dinner     3\n",
      "2         21.01  3.50    Male     No   Sun  Dinner     3\n",
      "3         23.68  3.31    Male     No   Sun  Dinner     2\n",
      "4         24.59  3.61  Female     No   Sun  Dinner     4\n",
      "..          ...   ...     ...    ...   ...     ...   ...\n",
      "239       29.03  5.92    Male     No   Sat  Dinner     3\n",
      "240       27.18  2.00  Female    Yes   Sat  Dinner     2\n",
      "241       22.67  2.00    Male    Yes   Sat  Dinner     2\n",
      "242       17.82  1.75    Male     No   Sat  Dinner     2\n",
      "243       18.78  3.00  Female     No  Thur  Dinner     2\n",
      "\n",
      "[244 rows x 7 columns]\n"
     ]
    }
   ],
   "source": [
    "import pandas as pd\n",
    "import seaborn as sns\n",
    "\n",
    "df = sns.load_dataset(\"tips\")\n",
    "print(df)\n"
   ]
  },
  {
   "cell_type": "code",
   "execution_count": 2,
   "metadata": {},
   "outputs": [
    {
     "name": "stdout",
     "output_type": "stream",
     "text": [
      "       total_bill         tip        size\n",
      "count  244.000000  244.000000  244.000000\n",
      "mean    19.785943    2.998279    2.569672\n",
      "std      8.902412    1.383638    0.951100\n",
      "min      3.070000    1.000000    1.000000\n",
      "25%     13.347500    2.000000    2.000000\n",
      "50%     17.795000    2.900000    2.000000\n",
      "75%     24.127500    3.562500    3.000000\n",
      "max     50.810000   10.000000    6.000000\n"
     ]
    }
   ],
   "source": [
    "stats_summary = df.describe()\n",
    "print(stats_summary)"
   ]
  },
  {
   "cell_type": "markdown",
   "metadata": {},
   "source": [
    "\n",
    "This provides count, mean, standard deviation, min, 25th percentile, median (50th percentile), 75th percentile, and max for all numerical columns.\n",
    "\n",
    "## Correlation and Association\n",
    "\n",
    "Correlation measures the strength and direction of a linear relationship between two variables. The Pearson correlation coefficient, which ranges from -1 to 1, is the most widely used method to measure it. A value close to 1 implies a strong positive correlation, while a value close to -1 indicates a strong negative correlation. A value close to 0 implies a weak or no linear correlation."
   ]
  },
  {
   "cell_type": "code",
   "execution_count": 3,
   "metadata": {},
   "outputs": [
    {
     "name": "stdout",
     "output_type": "stream",
     "text": [
      "            total_bill       tip      size\n",
      "total_bill    1.000000  0.675734  0.598315\n",
      "tip           0.675734  1.000000  0.489299\n",
      "size          0.598315  0.489299  1.000000\n"
     ]
    }
   ],
   "source": [
    "correlation_matrix = df.corr()\n",
    "print(correlation_matrix)"
   ]
  },
  {
   "cell_type": "markdown",
   "metadata": {},
   "source": [
    "This returns a matrix of Pearson correlation coefficients between every pair of numerical columns in the dataframe. A value close to 1 implies a strong positive correlation: as one variable increases, the other also tends to increase. A value close to -1 implies a strong negative correlation: as one variable increases, the other tends to decrease.\n",
    "\n",
    "We can also visualize the correlation matrix using a heatmap."
   ]
  },
  {
   "cell_type": "code",
   "execution_count": 6,
   "metadata": {},
   "outputs": [
    {
     "data": {
      "image/png": "[encoded data removed]",
      "text/plain": [
       "<Figure size 640x480 with 2 Axes>"
      ]
     },
     "metadata": {},
     "output_type": "display_data"
    }
   ],
   "source": [
    "import seaborn as sns\n",
    "import matplotlib.pyplot as plt\n",
    "\n",
    "sns.heatmap(correlation_matrix, annot=True)\n",
    "plt.show()\n"
   ]
  },
  {
   "cell_type": "markdown",
   "metadata": {},
   "source": [
    "Or a pairplot, which shows the relationship between every pair of variables in a dataset."
   ]
  },
  {
   "cell_type": "code",
   "execution_count": 7,
   "metadata": {},
   "outputs": [
    {
     "data": {
      "image/png": "[encoded data removed]",
      "text/plain": [
       "<Figure size 750x750 with 12 Axes>"
      ]
     },
     "metadata": {},
     "output_type": "display_data"
    }
   ],
   "source": [
    "sns.pairplot(df)\n",
    "plt.show()"
   ]
  },
  {
   "cell_type": "markdown",
   "metadata": {},
   "source": [
    "One can also limit your plots to specific variables, which is useful when dealing with a large number of variables."
   ]
  },
  {
   "cell_type": "code",
   "execution_count": 10,
   "metadata": {},
   "outputs": [
    {
     "data": {
      "image/png": "[encoded data removed]",
      "text/plain": [
       "<Figure size 500x500 with 6 Axes>"
      ]
     },
     "metadata": {},
     "output_type": "display_data"
    }
   ],
   "source": [
    "sns.pairplot(data=df, vars=['tip','total_bill'])\n",
    "plt.show()"
   ]
  },
  {
   "cell_type": "markdown",
   "metadata": {},
   "source": [
    "## Exploring groups of data\n",
    "\n",
    "  - Aggregate data based on column values.\n",
    "  - Example to group by city and get the average age:"
   ]
  },
  {
   "cell_type": "code",
   "execution_count": 4,
   "metadata": {},
   "outputs": [
    {
     "name": "stdout",
     "output_type": "stream",
     "text": [
      "sex\n",
      "Male      3.089618\n",
      "Female    2.833448\n",
      "Name: tip, dtype: float64\n"
     ]
    }
   ],
   "source": [
    "grouped_data = df.groupby('sex')['tip'].mean()\n",
    "print(grouped_data)"
   ]
  },
  {
   "cell_type": "markdown",
   "metadata": {},
   "source": [
    "- Note the structure \n",
    "  1. **`df.groupby('sex')`**: This groups the DataFrame `df` by the unique values in the 'city' column. The result is a `groupby` object which is a special type of pandas object that has similar properties to a DataFrame but represents a collection of groups (or segments) of your data.\n",
    "  2. **`df.groupby('sex')['tip']`**: This selects the 'age' column from each group. Now, you have a `groupby` object that is focused on the 'age' values for each city.\n",
    "  3. **`.mean()`**: This calculates the mean (or average) of the 'age' values for each city.\n"
   ]
  },
  {
   "cell_type": "markdown",
   "metadata": {},
   "source": [
    "We can also pass apply other functions:"
   ]
  },
  {
   "cell_type": "code",
   "execution_count": 5,
   "metadata": {},
   "outputs": [
    {
     "name": "stdout",
     "output_type": "stream",
     "text": [
      "sex\n",
      "Male      1.489102\n",
      "Female    1.159495\n",
      "Name: tip, dtype: float64\n"
     ]
    }
   ],
   "source": [
    "grouped_data = df.groupby('sex')['tip'].std()\n",
    "print(grouped_data)"
   ]
  },
  {
   "cell_type": "markdown",
   "metadata": {},
   "source": [
    "Hence there is a smaller standard deviation in the tips given by women."
   ]
  },
  {
   "cell_type": "markdown",
   "metadata": {},
   "source": [
    "## Aggregating ungrouped data\n",
    "\n",
    "`.agg()` applies aggregating functions across a DataFrame. The aggregating function will run on every numeric column in the DataFrame."
   ]
  },
  {
   "cell_type": "code",
   "execution_count": 6,
   "metadata": {},
   "outputs": [
    {
     "name": "stderr",
     "output_type": "stream",
     "text": [
      "/var/folders/zk/7bq77vmd70327r7h12gqk8sc0000gn/T/ipykernel_94046/3387900303.py:1: FutureWarning: ['sex', 'smoker', 'day', 'time'] did not aggregate successfully. If any error is raised this will raise in a future version of pandas. Drop these columns/ops to avoid this warning.\n",
      "  df.agg(['mean', 'std'])\n"
     ]
    },
    {
     "data": {
      "text/html": [
       "<div>\n",
       "<style scoped>\n",
       "    .dataframe tbody tr th:only-of-type {\n",
       "        vertical-align: middle;\n",
       "    }\n",
       "\n",
       "    .dataframe tbody tr th {\n",
       "        vertical-align: top;\n",
       "    }\n",
       "\n",
       "    .dataframe thead th {\n",
       "        text-align: right;\n",
       "    }\n",
       "</style>\n",
       "<table border=\"1\" class=\"dataframe\">\n",
       "  <thead>\n",
       "    <tr style=\"text-align: right;\">\n",
       "      <th></th>\n",
       "      <th>total_bill</th>\n",
       "      <th>tip</th>\n",
       "      <th>size</th>\n",
       "    </tr>\n",
       "  </thead>\n",
       "  <tbody>\n",
       "    <tr>\n",
       "      <th>mean</th>\n",
       "      <td>19.785943</td>\n",
       "      <td>2.998279</td>\n",
       "      <td>2.569672</td>\n",
       "    </tr>\n",
       "    <tr>\n",
       "      <th>std</th>\n",
       "      <td>8.902412</td>\n",
       "      <td>1.383638</td>\n",
       "      <td>0.951100</td>\n",
       "    </tr>\n",
       "  </tbody>\n",
       "</table>\n",
       "</div>"
      ],
      "text/plain": [
       "      total_bill       tip      size\n",
       "mean   19.785943  2.998279  2.569672\n",
       "std     8.902412  1.383638  0.951100"
      ]
     },
     "execution_count": 6,
     "metadata": {},
     "output_type": "execute_result"
    }
   ],
   "source": [
    "df.agg(['mean', 'std'])"
   ]
  },
  {
   "cell_type": "markdown",
   "metadata": {},
   "source": [
    "Specifying aggregations for columns"
   ]
  },
  {
   "cell_type": "code",
   "execution_count": 9,
   "metadata": {},
   "outputs": [
    {
     "data": {
      "text/html": [
       "<div>\n",
       "<style scoped>\n",
       "    .dataframe tbody tr th:only-of-type {\n",
       "        vertical-align: middle;\n",
       "    }\n",
       "\n",
       "    .dataframe tbody tr th {\n",
       "        vertical-align: top;\n",
       "    }\n",
       "\n",
       "    .dataframe thead th {\n",
       "        text-align: right;\n",
       "    }\n",
       "</style>\n",
       "<table border=\"1\" class=\"dataframe\">\n",
       "  <thead>\n",
       "    <tr style=\"text-align: right;\">\n",
       "      <th></th>\n",
       "      <th>total_bill</th>\n",
       "      <th>tip</th>\n",
       "    </tr>\n",
       "  </thead>\n",
       "  <tbody>\n",
       "    <tr>\n",
       "      <th>median</th>\n",
       "      <td>17.795000</td>\n",
       "      <td>2.900000</td>\n",
       "    </tr>\n",
       "    <tr>\n",
       "      <th>std</th>\n",
       "      <td>8.902412</td>\n",
       "      <td>1.383638</td>\n",
       "    </tr>\n",
       "  </tbody>\n",
       "</table>\n",
       "</div>"
      ],
      "text/plain": [
       "        total_bill       tip\n",
       "median   17.795000  2.900000\n",
       "std       8.902412  1.383638"
      ]
     },
     "execution_count": 9,
     "metadata": {},
     "output_type": "execute_result"
    }
   ],
   "source": [
    "df.agg({\"total_bill\": [\"median\", \"std\"], \"tip\": [\"median\", \"std\"]})"
   ]
  },
  {
   "cell_type": "markdown",
   "metadata": {},
   "source": [
    "## Detecting and Handling Outliers\n",
    "\n",
    "Outliers are data points that significantly deviate from other observations in the dataset. They might be a result of variability or errors. The Interquartile Range (IQR) method is commonly used to detect them. Here's the logic:\n",
    "\n",
    "- **IQR**: It's the range between the first quartile (25%) and the third quartile (75%) in the dataset.\n",
    "- Any data point that falls below Q1 - 1.5I*QR or above Q3 + 1.5*IQR is considered an outlier."
   ]
  },
  {
   "cell_type": "code",
   "execution_count": 6,
   "metadata": {},
   "outputs": [
    {
     "data": {
      "text/html": [
       "<div>\n",
       "<style scoped>\n",
       "    .dataframe tbody tr th:only-of-type {\n",
       "        vertical-align: middle;\n",
       "    }\n",
       "\n",
       "    .dataframe tbody tr th {\n",
       "        vertical-align: top;\n",
       "    }\n",
       "\n",
       "    .dataframe thead th {\n",
       "        text-align: right;\n",
       "    }\n",
       "</style>\n",
       "<table border=\"1\" class=\"dataframe\">\n",
       "  <thead>\n",
       "    <tr style=\"text-align: right;\">\n",
       "      <th></th>\n",
       "      <th>total_bill</th>\n",
       "      <th>tip</th>\n",
       "      <th>sex</th>\n",
       "      <th>smoker</th>\n",
       "      <th>day</th>\n",
       "      <th>time</th>\n",
       "      <th>size</th>\n",
       "      <th>is_outlier_tip</th>\n",
       "    </tr>\n",
       "  </thead>\n",
       "  <tbody>\n",
       "    <tr>\n",
       "      <th>0</th>\n",
       "      <td>16.99</td>\n",
       "      <td>1.01</td>\n",
       "      <td>Female</td>\n",
       "      <td>No</td>\n",
       "      <td>Sun</td>\n",
       "      <td>Dinner</td>\n",
       "      <td>2</td>\n",
       "      <td>False</td>\n",
       "    </tr>\n",
       "    <tr>\n",
       "      <th>1</th>\n",
       "      <td>10.34</td>\n",
       "      <td>1.66</td>\n",
       "      <td>Male</td>\n",
       "      <td>No</td>\n",
       "      <td>Sun</td>\n",
       "      <td>Dinner</td>\n",
       "      <td>3</td>\n",
       "      <td>False</td>\n",
       "    </tr>\n",
       "    <tr>\n",
       "      <th>2</th>\n",
       "      <td>21.01</td>\n",
       "      <td>3.50</td>\n",
       "      <td>Male</td>\n",
       "      <td>No</td>\n",
       "      <td>Sun</td>\n",
       "      <td>Dinner</td>\n",
       "      <td>3</td>\n",
       "      <td>False</td>\n",
       "    </tr>\n",
       "    <tr>\n",
       "      <th>3</th>\n",
       "      <td>23.68</td>\n",
       "      <td>3.31</td>\n",
       "      <td>Male</td>\n",
       "      <td>No</td>\n",
       "      <td>Sun</td>\n",
       "      <td>Dinner</td>\n",
       "      <td>2</td>\n",
       "      <td>False</td>\n",
       "    </tr>\n",
       "    <tr>\n",
       "      <th>4</th>\n",
       "      <td>24.59</td>\n",
       "      <td>3.61</td>\n",
       "      <td>Female</td>\n",
       "      <td>No</td>\n",
       "      <td>Sun</td>\n",
       "      <td>Dinner</td>\n",
       "      <td>4</td>\n",
       "      <td>False</td>\n",
       "    </tr>\n",
       "    <tr>\n",
       "      <th>...</th>\n",
       "      <td>...</td>\n",
       "      <td>...</td>\n",
       "      <td>...</td>\n",
       "      <td>...</td>\n",
       "      <td>...</td>\n",
       "      <td>...</td>\n",
       "      <td>...</td>\n",
       "      <td>...</td>\n",
       "    </tr>\n",
       "    <tr>\n",
       "      <th>239</th>\n",
       "      <td>29.03</td>\n",
       "      <td>5.92</td>\n",
       "      <td>Male</td>\n",
       "      <td>No</td>\n",
       "      <td>Sat</td>\n",
       "      <td>Dinner</td>\n",
       "      <td>3</td>\n",
       "      <td>True</td>\n",
       "    </tr>\n",
       "    <tr>\n",
       "      <th>240</th>\n",
       "      <td>27.18</td>\n",
       "      <td>2.00</td>\n",
       "      <td>Female</td>\n",
       "      <td>Yes</td>\n",
       "      <td>Sat</td>\n",
       "      <td>Dinner</td>\n",
       "      <td>2</td>\n",
       "      <td>False</td>\n",
       "    </tr>\n",
       "    <tr>\n",
       "      <th>241</th>\n",
       "      <td>22.67</td>\n",
       "      <td>2.00</td>\n",
       "      <td>Male</td>\n",
       "      <td>Yes</td>\n",
       "      <td>Sat</td>\n",
       "      <td>Dinner</td>\n",
       "      <td>2</td>\n",
       "      <td>False</td>\n",
       "    </tr>\n",
       "    <tr>\n",
       "      <th>242</th>\n",
       "      <td>17.82</td>\n",
       "      <td>1.75</td>\n",
       "      <td>Male</td>\n",
       "      <td>No</td>\n",
       "      <td>Sat</td>\n",
       "      <td>Dinner</td>\n",
       "      <td>2</td>\n",
       "      <td>False</td>\n",
       "    </tr>\n",
       "    <tr>\n",
       "      <th>243</th>\n",
       "      <td>18.78</td>\n",
       "      <td>3.00</td>\n",
       "      <td>Female</td>\n",
       "      <td>No</td>\n",
       "      <td>Thur</td>\n",
       "      <td>Dinner</td>\n",
       "      <td>2</td>\n",
       "      <td>False</td>\n",
       "    </tr>\n",
       "  </tbody>\n",
       "</table>\n",
       "<p>244 rows × 8 columns</p>\n",
       "</div>"
      ],
      "text/plain": [
       "     total_bill   tip     sex smoker   day    time  size  is_outlier_tip\n",
       "0         16.99  1.01  Female     No   Sun  Dinner     2           False\n",
       "1         10.34  1.66    Male     No   Sun  Dinner     3           False\n",
       "2         21.01  3.50    Male     No   Sun  Dinner     3           False\n",
       "3         23.68  3.31    Male     No   Sun  Dinner     2           False\n",
       "4         24.59  3.61  Female     No   Sun  Dinner     4           False\n",
       "..          ...   ...     ...    ...   ...     ...   ...             ...\n",
       "239       29.03  5.92    Male     No   Sat  Dinner     3            True\n",
       "240       27.18  2.00  Female    Yes   Sat  Dinner     2           False\n",
       "241       22.67  2.00    Male    Yes   Sat  Dinner     2           False\n",
       "242       17.82  1.75    Male     No   Sat  Dinner     2           False\n",
       "243       18.78  3.00  Female     No  Thur  Dinner     2           False\n",
       "\n",
       "[244 rows x 8 columns]"
      ]
     },
     "execution_count": 6,
     "metadata": {},
     "output_type": "execute_result"
    }
   ],
   "source": [
    "# Step 1: Calculate the 1st and 3rd quantiles (i.e., 25th and 75th percentiles)\n",
    "Q1 = df['tip'].quantile(0.25)\n",
    "Q3 = df['tip'].quantile(0.75)\n",
    "\n",
    "# Step 2: Calculate the Interquartile Range (IQR)\n",
    "IQR = Q3 - Q1\n",
    "\n",
    "# Step 3: Define boundaries for outliers\n",
    "lower_boundary = Q1 - 1.5 * IQR\n",
    "upper_boundary = Q3 + 1.5 * IQR\n",
    "\n",
    "# Step 4: Combine the two conditions (lower and upper) using an \"OR\" operation - save the series to a column\n",
    "df['is_outlier_tip'] = (df['tip'] < lower_boundary) | (df['tip'] > upper_boundary)\n",
    "df"
   ]
  },
  {
   "cell_type": "markdown",
   "metadata": {},
   "source": [
    "Lets go ahead and drop the row with the outlier"
   ]
  },
  {
   "cell_type": "code",
   "execution_count": null,
   "metadata": {},
   "outputs": [],
   "source": [
    "df = df[df['is_outlier_A'] == False]\n",
    "df"
   ]
  },
  {
   "cell_type": "markdown",
   "metadata": {},
   "source": [
    "Lets also drop the outlier column"
   ]
  },
  {
   "cell_type": "code",
   "execution_count": null,
   "metadata": {},
   "outputs": [],
   "source": [
    "df = df.drop(columns=['is_outlier_A'])"
   ]
  },
  {
   "cell_type": "markdown",
   "metadata": {},
   "source": [
    "-----\n",
    "\n",
    "## Tutorial 3, Part 1: Exploring the data\n",
    "\n",
    "Before you get started\n",
    "- Go to your Setup.ipynb and pull the latest version of the course repository\n",
    "- Then create a notebook for this tutorial and rename it to  to \\<your_name>\\<Lecture_3_Tutorial>\n",
    "- Share with me: jan5020@gmail.com\n",
    "\n",
    "Then you need to do the following:\n",
    "- import the necessary libraries\n",
    "- load the data\n",
    "    - the possum data, calling it df_pos\n",
    "    - the South African maize data, df_maize\n",
    "\n",
    "Now\n",
    "- describe the possum data\n",
    "- describe the maize data\n",
    "- check the correlation between the variables in the possum data\n",
    "- check the correlation between the variables in the maize data\n",
    "- identify the outliers in the `totalL`, and `weight` variables in the possum data and give them the appropriate variable name\n",
    "____\n",
    "____"
   ]
  },
  {
   "cell_type": "markdown",
   "metadata": {},
   "source": [
    "## **Data Visualization in EDA**\n",
    "### Python Libraries for Visualization\n",
    "\n",
    "Data visualization is an integral part of Exploratory Data Analysis (EDA) as it allows for a graphical representation of information and data. Python offers a range of libraries tailored for various visualization needs. Here, we'll introduce three of the most popular ones:\n",
    "\n",
    "- **Matplotlib**: One of the most widely used visualization libraries in Python, Matplotlib provides a flexible platform to create a vast array of static, animated, and interactive visualizations. It's highly customizable and serves as the foundation for many other plotting libraries.\n",
    "\n",
    "- **Seaborn**: Built on top of Matplotlib, Seaborn provides a higher-level interface for creating beautiful, statistically-themed visualizations. It comes with several built-in themes and color palettes to make aesthetically pleasing charts with ease.\n",
    "\n",
    "- **Plotly**: Unlike the other two, Plotly is mainly known for enabling interactive visualizations. It supports a multitude of chart types and is particularly useful when you want to create visualizations that users can interact with.\n",
    "\n",
    "To start working with these libraries, you'll first need to import them. Here's how you can do it:\n"
   ]
  },
  {
   "cell_type": "code",
   "execution_count": null,
   "metadata": {},
   "outputs": [],
   "source": [
    "import matplotlib.pyplot as plt\n",
    "import seaborn as sns"
   ]
  },
  {
   "cell_type": "markdown",
   "metadata": {},
   "source": [
    "#### Matplotlib (`plt`)\n",
    "\n",
    "**Matplotlib** is the foundational library for many other Python plotting libraries. Here's a quick primer:\n",
    "\n",
    "- **Basic Plotting**\n",
    "\n",
    "    The `plot` method is used to create a basic line plot. It takes in an array of X-axis values and an array of corresponding Y-axis values as arguments. It also accepts an optional third argument for customizing the line style and color. \n",
    "\n",
    "    This plots `y` vs `x` as lines and markers.\n"
   ]
  },
  {
   "cell_type": "code",
   "execution_count": null,
   "metadata": {},
   "outputs": [],
   "source": [
    "x = [1, 2, 3, 4, 5]\n",
    "y = [1, 4, 9, 16, 25]\n",
    "plt.plot(x, y)\n",
    "plt.show()"
   ]
  },
  {
   "cell_type": "markdown",
   "metadata": {},
   "source": [
    "- **Titles & Labels**: \n",
    "\n",
    "    You can use the `title`, `xlabel` and `ylabel` methods to set a title, X-axis label, and Y-axis label for the plot."
   ]
  },
  {
   "cell_type": "code",
   "execution_count": null,
   "metadata": {},
   "outputs": [],
   "source": [
    "plt.plot(x, y)\n",
    "plt.title(\"Square Numbers\")\n",
    "plt.xlabel(\"Value\")\n",
    "plt.ylabel(\"Square of Value\")\n",
    "plt.show()"
   ]
  },
  {
   "cell_type": "markdown",
   "metadata": {},
   "source": [
    "- **Multiple Plots**: \n",
    "    You can use the `subplot` method to create multiple plots on the same canvas. It takes in three arguments: the number of rows, number of columns, and the index of the active subplot (starts from 1, not 0). The `suptitle` method can be used to set the title for the entire plot."
   ]
  },
  {
   "cell_type": "code",
   "execution_count": null,
   "metadata": {},
   "outputs": [],
   "source": [
    "y2 = [1, 8, 27, 64, 125]\n",
    "plt.plot(x, y, label=\"Squares\")\n",
    "plt.plot(x, y2, label=\"Cubes\")\n",
    "plt.legend()  # To show the legend\n",
    "plt.show()"
   ]
  },
  {
   "cell_type": "markdown",
   "metadata": {},
   "source": [
    "#### Seaborn (`sns`)\n",
    "\n",
    "**Seaborn** is built on top of Matplotlib and offers a higher-level, more aesthetically pleasing interface:\n",
    "\n",
    "- **Histogram**:\n"
   ]
  },
  {
   "cell_type": "code",
   "execution_count": null,
   "metadata": {},
   "outputs": [],
   "source": [
    "data = [1, 1, 2, 3, 3, 3, 4, 4, 5]\n",
    "sns.histplot(data)\n",
    "plt.show()"
   ]
  },
  {
   "cell_type": "markdown",
   "metadata": {},
   "source": [
    "- **Box Plot**:\n",
    "\n",
    "    Here, `tips_dataset` would be a sample dataset you've loaded, and you're visualizing the total bill amounts by day."
   ]
  },
  {
   "cell_type": "code",
   "execution_count": null,
   "metadata": {},
   "outputs": [],
   "source": [
    "sns.boxplot(x=\"day\", y=\"total_bill\", data=tips_dataset)\n",
    "plt.show()"
   ]
  },
  {
   "cell_type": "markdown",
   "metadata": {},
   "source": [
    "What does the box plot tell you about the distribution of total bill amounts on different days?"
   ]
  },
  {
   "cell_type": "markdown",
   "metadata": {},
   "source": [
    "- **Scatter Plot**:\n"
   ]
  },
  {
   "cell_type": "code",
   "execution_count": null,
   "metadata": {},
   "outputs": [],
   "source": [
    "sns.scatterplot(x=\"total_bill\", y=\"tip\", data=tips_dataset)\n",
    "plt.show()"
   ]
  },
  {
   "cell_type": "markdown",
   "metadata": {},
   "source": [
    "- **Scatter Plot with Regression Line**:"
   ]
  },
  {
   "cell_type": "code",
   "execution_count": null,
   "metadata": {},
   "outputs": [],
   "source": [
    "sns.regplot(x=\"total_bill\", y=\"tip\", data=tips_dataset)\n",
    "plt.show()"
   ]
  },
  {
   "cell_type": "markdown",
   "metadata": {},
   "source": [
    "- **Line plot**:"
   ]
  },
  {
   "cell_type": "code",
   "execution_count": null,
   "metadata": {},
   "outputs": [],
   "source": [
    "sns.lineplot(x=\"total_bill\", y=\"tip\", data=tips_dataset, label=\"Line Plot\", color='green',marker='o')\n",
    "plt.title(\"Line Plot with Seaborn\")\n",
    "plt.show()"
   ]
  },
  {
   "cell_type": "markdown",
   "metadata": {},
   "source": [
    "\n",
    "Both libraries work well with Pandas dataframes, which means you can directly pass columns of a dataframe to these functions. Remember to always use `plt.show()` with Matplotlib to ensure the plot is rendered correctly."
   ]
  },
  {
   "cell_type": "markdown",
   "metadata": {},
   "source": [
    "Explore the Seaborn plotting library here: https://seaborn.pydata.org/examples/index.html "
   ]
  },
  {
   "cell_type": "markdown",
   "metadata": {},
   "source": [
    "----\n",
    "\n",
    "## Tutorial 3, Part 2: Plotting data with Seaborn\n",
    "\n",
    "Using the possum data and **sns**, create the following plots:\n",
    "- a scatter plot with regression line of skull length vs skull width\n",
    "- a histogram of skull length\n",
    "- a boxplot of weight, categorised by sex\n",
    "\n",
    "Using the maize data and **sns**, create the following plots:\n",
    "- but first, calculate the average yield for each year\n",
    "- a line plot of yield vs year\n",
    "- a line plot of the white and yellow maize price\n",
    "    - add R/ton to the y-axis\n",
    "    - add a legend\n",
    "    - make the white maize blue red and the yellow maize line orange\n",
    "\n",
    "Stretch goal:\n",
    "- calculate the average yield per decade\n",
    "- create a bar plot of yield vs decade\n",
    "- a boxplot of yield, categorised by decade\n",
    "\n",
    "----\n",
    "----"
   ]
  }
 ],
 "metadata": {
  "kernelspec": {
   "display_name": "ag_policy",
   "language": "python",
   "name": "python3"
  },
  "language_info": {
   "codemirror_mode": {
    "name": "ipython",
    "version": 3
   },
   "file_extension": ".py",
   "mimetype": "text/x-python",
   "name": "python",
   "nbconvert_exporter": "python",
   "pygments_lexer": "ipython3",
   "version": "3.9.13"
  },
  "orig_nbformat": 4
 },
 "nbformat": 4,
 "nbformat_minor": 2
}
