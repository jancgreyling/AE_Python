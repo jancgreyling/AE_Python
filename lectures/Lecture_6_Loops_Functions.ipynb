{
 "cells": [
  {
   "cell_type": "markdown",
   "id": "0dd79410",
   "metadata": {},
   "source": [
    "# Lecture 6: Loops, List Comprehension and Functions\n",
    "----\n",
    "\n",
    "## Create the example data"
   ]
  },
  {
   "cell_type": "code",
   "execution_count": 3,
   "id": "093f3fe8",
   "metadata": {},
   "outputs": [],
   "source": [
    "import pandas as pd\n",
    "# create the dataframe\n",
    "data = {'name': ['Jason', 'Molly', 'Tina', 'Jake', 'Amy'],\n",
    "        'age': [42, 52, 36, 24, 73],\n",
    "        'preTestScore': [4, 24, 31, 2, 3],\n",
    "        'postTestScore': [25, 94, 57, 62, 70],\n",
    "        'occupation': ['teacher', 'engineer', 'doctor', 'teacher', 'engineer']}\n",
    "\n",
    "df = pd.DataFrame(data)\n"
   ]
  },
  {
   "cell_type": "markdown",
   "id": "c562a9f3",
   "metadata": {},
   "source": [
    "### What are loops, and how do they work?\n",
    "\n",
    "A `for` loop is a control flow statement that allows us to execute a block of code multiple times. The basic structure is, note the indentation:\n",
    "\n",
    "```python\n",
    "for element in iterable:\n",
    "    # code to execute\n",
    "```"
   ]
  },
  {
   "cell_type": "markdown",
   "id": "9fd20a3f",
   "metadata": {},
   "source": [
    "**Example 1: Basic For Loop**\n",
    "\n",
    "In this example, we use a basic `for` loop to iterate over the 'Name' column of our DataFrame. Inside the loop, we print a greeting for each name."
   ]
  },
  {
   "cell_type": "code",
   "execution_count": 191,
   "id": "7e4e0fbd",
   "metadata": {},
   "outputs": [
    {
     "name": "stdout",
     "output_type": "stream",
     "text": [
      "These are numbers in a range, 0\n",
      "These are numbers in a range, 1\n",
      "These are numbers in a range, 2\n",
      "These are numbers in a range, 3\n",
      "These are numbers in a range, 4\n",
      "\n",
      "These are numbers in a range, 1\n",
      "These are numbers in a range, 2\n",
      "These are numbers in a range, 3\n",
      "These are numbers in a range, 4\n",
      "\n",
      "These are numbers in a range, 0\n",
      "These are numbers in a range, 2\n",
      "These are numbers in a range, 4\n",
      "These are numbers in a range, 6\n",
      "These are numbers in a range, 8\n"
     ]
    }
   ],
   "source": [
    "for i in range(5):\n",
    "    print(f\"These are numbers in a range, {i}\")\n",
    "print(\"\")\n",
    "for i in range(1,5):\n",
    "    print(f\"These are numbers in a range, {i}\")\n",
    "print(\"\")\n",
    "for i in range(0,10,2):\n",
    "    print(f\"These are numbers in a range, {i}\")"
   ]
  },
  {
   "cell_type": "code",
   "execution_count": 192,
   "id": "aaea8bcf",
   "metadata": {},
   "outputs": [
    {
     "name": "stdout",
     "output_type": "stream",
     "text": [
      "Hello, Alice!\n",
      "Hello, Bob!\n",
      "Hello, Charlie!\n",
      "Hello, David!\n",
      "Hello, Eva!\n"
     ]
    }
   ],
   "source": [
    "# Example of a basic for loop to print names from the dataset\n",
    "for name in df['Name']:\n",
    "    print(f\"Hello, {name}!\")"
   ]
  },
  {
   "cell_type": "markdown",
   "id": "11d6af0a",
   "metadata": {},
   "source": [
    "#### Example 2: Nested For Loop\n",
    "\n",
    "In this example, we use a nested `for` loop: the outer loop iterates through names, and the inner loop iterates through each character of the current name. This demonstrates how loops can be nested within each other for more complex operations."
   ]
  },
  {
   "cell_type": "code",
   "execution_count": 193,
   "id": "fd9f3be7",
   "metadata": {},
   "outputs": [
    {
     "name": "stdout",
     "output_type": "stream",
     "text": [
      "Name: Alice\n",
      "  Character: A\n",
      "  Character: l\n",
      "  Character: i\n",
      "  Character: c\n",
      "  Character: e\n",
      "Name: Bob\n",
      "  Character: B\n",
      "  Character: o\n",
      "  Character: b\n",
      "Name: Charlie\n",
      "  Character: C\n",
      "  Character: h\n",
      "  Character: a\n",
      "  Character: r\n",
      "  Character: l\n",
      "  Character: i\n",
      "  Character: e\n",
      "Name: David\n",
      "  Character: D\n",
      "  Character: a\n",
      "  Character: v\n",
      "  Character: i\n",
      "  Character: d\n",
      "Name: Eva\n",
      "  Character: E\n",
      "  Character: v\n",
      "  Character: a\n"
     ]
    }
   ],
   "source": [
    "# Example of a nested for loop to print each character of each name\n",
    "for name in df['Name']:\n",
    "    print(f\"Name: {name}\")\n",
    "    for char in name:\n",
    "        print(f\"  Character: {char}\")"
   ]
  },
  {
   "cell_type": "markdown",
   "id": "3148eb79",
   "metadata": {},
   "source": [
    "## Introduction to List Comprehension\n",
    "\n",
    "### Basics of List Comprehension\n",
    "\n",
    "List comprehension is a powerful feature in Python that allows for a concise and readable way to create lists. It's often used in data manipulation tasks, including when working with pandas DataFrames. Essentially, list comprehensions let you create a new list by applying an expression to each element in an existing collection (or satisfying some condition).\n",
    "\n",
    "#### Basic Syntax\n",
    "\n",
    "The basic syntax of a list comprehension looks like this:\n",
    "\n",
    "```python\n",
    "[expression for item in iterable]\n",
    "```\n",
    "\n",
    "- `expression`: The value you want to include in the new list.\n",
    "- `item`: A variable that takes the value of each element in the iterable.\n",
    "- `iterable`: The collection you are iterating over.\n",
    "\n",
    "#### Simple Example\n",
    "\n",
    "For example, to create a list of the squares of numbers from 0 to 9, you can use:"
   ]
  },
  {
   "cell_type": "code",
   "execution_count": null,
   "id": "6a06d726",
   "metadata": {},
   "outputs": [],
   "source": [
    "squares = [x**2 for x in range(10)]\n",
    "squares"
   ]
  },
  {
   "cell_type": "markdown",
   "id": "8526dc81",
   "metadata": {},
   "source": [
    "#### Conditional Statements\n",
    "\n",
    "You can also add conditional statements to list comprehensions. For example, to create a list of the squares of even numbers from 0 to 9, you can use:"
   ]
  },
  {
   "cell_type": "code",
   "execution_count": null,
   "id": "fe23ce34",
   "metadata": {},
   "outputs": [],
   "source": [
    "even_squares = [x**2 for x in range(10) if x > 5]\n",
    "even_squares"
   ]
  },
  {
   "cell_type": "markdown",
   "id": "ab5e5a47",
   "metadata": {},
   "source": [
    "#### Applying conditional statements to variables in a df\n",
    "\n",
    "You can also apply conditional statements to variables in a DataFrame. For example, to create a list of the squares of even numbers from 0 to 9, you can use:"
   ]
  },
  {
   "cell_type": "code",
   "execution_count": null,
   "id": "4c40371f",
   "metadata": {},
   "outputs": [],
   "source": [
    "# Example 1: Creating a new list of names in uppercase\n",
    "upper_names = [name.upper() for name in df['Full Name']]\n",
    "print(upper_names)"
   ]
  },
  {
   "cell_type": "code",
   "execution_count": null,
   "id": "ed9b749d",
   "metadata": {},
   "outputs": [],
   "source": [
    "# Example 2: Creating a new DataFrame column using list comprehension\n",
    "df['Is_Elderly'] = ['Yes' if age > 40 else 'No' for age in df['Age in Years']]\n",
    "print(df)"
   ]
  },
  {
   "cell_type": "code",
   "execution_count": null,
   "id": "19fab2f4",
   "metadata": {},
   "outputs": [],
   "source": [
    "# Example 3: Using list comprehension with multiple conditions\n",
    "df['Life_Stage'] = ['Young' if age < 30 else 'Middle-aged' if age < 50 else 'Old' for age in df['Age in Years']]\n",
    "print(df)"
   ]
  },
  {
   "cell_type": "markdown",
   "id": "609b1ab2",
   "metadata": {},
   "source": [
    "## Introduction to Functions"
   ]
  },
  {
   "cell_type": "markdown",
   "id": "306ba33d",
   "metadata": {},
   "source": [
    "### Basics of Functions\n",
    "\n",
    "Functions in Python are a way to encapsulate a block of code so that it can be reused and organized more effectively. They serve as \"mini-programs\" within a larger program, performing specific tasks. Functions are crucial in making code more modular, maintainable, and testable.\n",
    "\n",
    "### Anatomy of a Function\n",
    "A function in Python is defined using the `def` keyword, followed by the function name, parentheses, and a colon. The code block inside the function is indented. The function may take zero or more parameters as input and optionally return an output.\n",
    "\n",
    "Here is a simple function definition - note the indentation:\n",
    "\n",
    "```python\n",
    "def greet(name):\n",
    "    return f\"Hello, {name}!\"\n",
    "```\n",
    "\n",
    "- `def` starts the function definition.\n",
    "- `greet` is the function name.\n",
    "- `name` is a parameter that the function accepts.\n",
    "- The `return` statement specifies what the function outputs.\n",
    "\n",
    "### Calling a Function\n",
    "To execute a function, you \"call\" it by using its name followed by parentheses, inside which you can place any arguments that the function expects:\n",
    "\n",
    "```python\n",
    "result = greet(\"Alice\")\n",
    "```\n",
    "\n",
    "In this example, the `greet` function is called with the argument \"Alice\", and the returned string \"Hello, Alice!\" is stored in the variable `result`.\n",
    "\n",
    "### Parameters and Arguments\n",
    "- Parameters are variables listed inside the parentheses in the function definition.\n",
    "- Arguments are values that are sent to the function when it is called.\n",
    "\n",
    "### Function Scope\n",
    "Variables defined within a function are local to that function and cannot be accessed outside of it. However, functions can access variables defined in their containing scope.\n",
    "\n",
    "### Types of Functions\n",
    "1. **Built-in Functions**: Python comes with many built-in functions like `print()`, `len()`, `type()`, etc.\n",
    "2. **User-defined Functions**: Functions defined by the users themselves.\n",
    "3. **Anonymous Functions**: Also known as lambda functions, they are defined using the `lambda` keyword.\n",
    "  \n",
    "### Function with Multiple Parameters and Default Values\n",
    "You can define a function with multiple parameters and even set default values for them:\n",
    "\n",
    "```python\n",
    "def greet(name, greeting=\"Hello\"):\n",
    "    return f\"{greeting}, {name}!\"\n",
    "\n",
    "greet(\"Alice\") # Prints \"Hello, Alice!\"\n",
    "greet(\"Alice\", \"Hi\") # Prints \"Hi, Alice!\"\n",
    "```\n",
    "\n",
    "Here, `greeting` has a default value of \"Hello\".\n",
    "\n",
    "### Returning Multiple Values\n",
    "A function can return multiple values as a tuple or another collection type:\n",
    "\n",
    "```python\n",
    "def min_max(numbers):\n",
    "    return min(numbers), max(numbers)\n",
    "\n",
    "min_max([1, 2, 3, 4, 5]) # Returns (1, 5)\n",
    "```\n",
    "\n",
    "### Docstrings\n",
    "It's a good practice to include a documentation string (docstring) to describe what the function does:\n",
    "\n",
    "```python\n",
    "def greet(name):\n",
    "    \"\"\"This function greets the person passed in as a parameter.\"\"\"\n",
    "    return f\"Hello, {name}!\"\n",
    "\n",
    "greet(\"Alice\") # Prints \"Hello, Alice!\"\n",
    "```"
   ]
  },
  {
   "cell_type": "markdown",
   "id": "1e376633",
   "metadata": {},
   "source": [
    "Functions can also return items defined in the function, such as variables, lists, dictionaries, etc. Lets apply a function to the example data:"
   ]
  },
  {
   "cell_type": "code",
   "execution_count": 194,
   "id": "a1a1fe24",
   "metadata": {},
   "outputs": [
    {
     "data": {
      "text/html": [
       "<div>\n",
       "<style scoped>\n",
       "    .dataframe tbody tr th:only-of-type {\n",
       "        vertical-align: middle;\n",
       "    }\n",
       "\n",
       "    .dataframe tbody tr th {\n",
       "        vertical-align: top;\n",
       "    }\n",
       "\n",
       "    .dataframe thead th {\n",
       "        text-align: right;\n",
       "    }\n",
       "</style>\n",
       "<table border=\"1\" class=\"dataframe\">\n",
       "  <thead>\n",
       "    <tr style=\"text-align: right;\">\n",
       "      <th></th>\n",
       "      <th>Name</th>\n",
       "      <th>Age</th>\n",
       "      <th>Occupation</th>\n",
       "    </tr>\n",
       "  </thead>\n",
       "  <tbody>\n",
       "    <tr>\n",
       "      <th>1</th>\n",
       "      <td>Bob</td>\n",
       "      <td>30</td>\n",
       "      <td>Doctor</td>\n",
       "    </tr>\n",
       "    <tr>\n",
       "      <th>2</th>\n",
       "      <td>Charlie</td>\n",
       "      <td>35</td>\n",
       "      <td>Artist</td>\n",
       "    </tr>\n",
       "    <tr>\n",
       "      <th>3</th>\n",
       "      <td>David</td>\n",
       "      <td>40</td>\n",
       "      <td>Lawyer</td>\n",
       "    </tr>\n",
       "  </tbody>\n",
       "</table>\n",
       "</div>"
      ],
      "text/plain": [
       "      Name  Age Occupation\n",
       "1      Bob   30     Doctor\n",
       "2  Charlie   35     Artist\n",
       "3    David   40     Lawyer"
      ]
     },
     "execution_count": 194,
     "metadata": {},
     "output_type": "execute_result"
    }
   ],
   "source": [
    "def filter_by_age(df,var,min_age, max_age):\n",
    "    \n",
    "    df_filter = df[(df[var] >= min_age) & (df[var] <= max_age)]\n",
    "\n",
    "    return df_filter\n",
    "\n",
    "# Apply the function to the example dataset\n",
    "filter_by_age(df,'Age',30, 40)\n"
   ]
  },
  {
   "cell_type": "markdown",
   "id": "2bc732fd",
   "metadata": {},
   "source": [
    "You have the option to specify the function components by position, but its safer to specify them explicitly, like this:"
   ]
  },
  {
   "cell_type": "code",
   "execution_count": 195,
   "id": "1496abf4",
   "metadata": {},
   "outputs": [
    {
     "data": {
      "text/html": [
       "<div>\n",
       "<style scoped>\n",
       "    .dataframe tbody tr th:only-of-type {\n",
       "        vertical-align: middle;\n",
       "    }\n",
       "\n",
       "    .dataframe tbody tr th {\n",
       "        vertical-align: top;\n",
       "    }\n",
       "\n",
       "    .dataframe thead th {\n",
       "        text-align: right;\n",
       "    }\n",
       "</style>\n",
       "<table border=\"1\" class=\"dataframe\">\n",
       "  <thead>\n",
       "    <tr style=\"text-align: right;\">\n",
       "      <th></th>\n",
       "      <th>Name</th>\n",
       "      <th>Age</th>\n",
       "      <th>Occupation</th>\n",
       "    </tr>\n",
       "  </thead>\n",
       "  <tbody>\n",
       "    <tr>\n",
       "      <th>1</th>\n",
       "      <td>Bob</td>\n",
       "      <td>30</td>\n",
       "      <td>Doctor</td>\n",
       "    </tr>\n",
       "    <tr>\n",
       "      <th>2</th>\n",
       "      <td>Charlie</td>\n",
       "      <td>35</td>\n",
       "      <td>Artist</td>\n",
       "    </tr>\n",
       "    <tr>\n",
       "      <th>3</th>\n",
       "      <td>David</td>\n",
       "      <td>40</td>\n",
       "      <td>Lawyer</td>\n",
       "    </tr>\n",
       "  </tbody>\n",
       "</table>\n",
       "</div>"
      ],
      "text/plain": [
       "      Name  Age Occupation\n",
       "1      Bob   30     Doctor\n",
       "2  Charlie   35     Artist\n",
       "3    David   40     Lawyer"
      ]
     },
     "execution_count": 195,
     "metadata": {},
     "output_type": "execute_result"
    }
   ],
   "source": [
    "filter_by_age(df,var = 'Age',min_age = 30, max_age = 40)"
   ]
  },
  {
   "cell_type": "markdown",
   "id": "60e1694c",
   "metadata": {},
   "source": [
    "## Introduction to Lambda Functions"
   ]
  },
  {
   "cell_type": "markdown",
   "id": "061f7c89",
   "metadata": {},
   "source": [
    "### Basics of Lambda Functions\n",
    "\n",
    "Lambda functions are often used for quick, inline operations on DataFrames. They are defined using the `lambda` keyword. Lambda functions can take any number of arguments, but they can only have one expression. They are often used with the apply method. \n",
    "\n",
    "The `apply` function is often associated with data manipulation in Python, particularly when working with the `pandas` library. It's used for applying a function along the axis of a DataFrame (either rows or columns) or to elements in a Series. The `apply` function is highly flexible and can be used for a variety of data transformation tasks.\n",
    "\n",
    "### Basic Syntax\n",
    "\n",
    "```python\n",
    "DataFrame.apply(func, axis=0, raw=False, result_type=None, args=(), **kwds)\n",
    "```\n",
    "\n",
    "- `func`: The function to apply.\n",
    "- `axis`: Axis along which the function is applied. `0` for applying function to each column, and `1` for applying function to each row.\n",
    "- `raw`: Determines if the function should receive ndarray objects instead of Series.\n",
    "- `result_type`: Control the type of output (like `expand`, `reduce`, `broadcast`, or `None`).\n",
    "- `args`: Tuple, positional arguments to pass to the function.\n",
    "\n",
    "### Use-cases\n",
    "\n",
    "1. **Data Transformation**: Apply complex calculations to data.\n",
    "2. **Aggregation**: Aggregate data according to some criteria.\n",
    "3. **Cleaning**: Apply cleaning operations to data, like filling `NaN` values or converting types.\n",
    "\n",
    "### Limitations\n",
    "\n",
    "- **Performance**: Applying operations row-wise can be computationally expensive.\n",
    "- **Debugging**: Errors can be harder to debug because you're applying a function in a single line of code.\n",
    "\n",
    "### Alternatives\n",
    "\n",
    "- Vectorized operations: Faster but not always possible.\n",
    "- `applymap()` for element-wise operations on a DataFrame.\n",
    "- `map()` for element-wise operations on a Series."
   ]
  },
  {
   "cell_type": "markdown",
   "id": "0a386e1d",
   "metadata": {},
   "source": [
    "### How to Use Them"
   ]
  },
  {
   "cell_type": "code",
   "execution_count": 196,
   "id": "75a031d1",
   "metadata": {},
   "outputs": [
    {
     "name": "stdout",
     "output_type": "stream",
     "text": [
      "      Name  Age Occupation  Age_squared\n",
      "0    Alice   25   Engineer          625\n",
      "1      Bob   30     Doctor          900\n",
      "2  Charlie   35     Artist         1225\n",
      "3    David   40     Lawyer         1600\n",
      "4      Eva   45  Scientist         2025\n",
      "\n",
      "[35, 40, 45]\n",
      "\n",
      "      Name  Age Occupation  Age_squared  Name_length\n",
      "0    Alice   25   Engineer          625            5\n",
      "1      Bob   30     Doctor          900            3\n",
      "2  Charlie   35     Artist         1225            7\n",
      "3    David   40     Lawyer         1600            5\n",
      "4      Eva   45  Scientist         2025            3\n"
     ]
    }
   ],
   "source": [
    "# Example 1: Using lambda to square the 'Age' column\n",
    "df['Age_squared'] = df['Age'].apply(lambda x: x ** 2)\n",
    "print(df)"
   ]
  },
  {
   "cell_type": "code",
   "execution_count": null,
   "id": "99bd7c70",
   "metadata": {},
   "outputs": [],
   "source": [
    "# Example 2: Using lambda with `filter` to get Names of people older than 30\n",
    "older_than_30 = list(filter(lambda x: x > 30, df['Age']))\n",
    "print(older_than_30)"
   ]
  },
  {
   "cell_type": "code",
   "execution_count": null,
   "id": "15e54bca",
   "metadata": {},
   "outputs": [],
   "source": [
    "# Example 3: Using lambda to create a new column with length of names\n",
    "df['Name_length'] = df['Name'].apply(lambda x: len(x))\n",
    "print(df)"
   ]
  },
  {
   "cell_type": "markdown",
   "id": "d3c1f671",
   "metadata": {},
   "source": [
    "Here we calculate the squares of the numbers in the range greater than 5."
   ]
  },
  {
   "cell_type": "markdown",
   "id": "89ecaf3a",
   "metadata": {},
   "source": [
    "----\n",
    "# Tutorial 6\n",
    "\n",
    "First\n",
    "- Use your `setup.ipynb` to pull the latest version of the class repo\n",
    "- Then create a notebook for this tutorial and rename it to  to \\<your_name>\\<Lecture_4_Tutorial>\n",
    "- Share with me: jan5020@gmail.com\n",
    "\n",
    "Then do the following\n",
    "- import the SA_maize data and call it df_mz\n",
    "- import the SA_soybean data and call it df_sb\n",
    "\n",
    "Now do the following\n",
    "- Using loops \n",
    "    - use a loop to add \"mz_\" to all the column names in df_mz except for the first column\n",
    "    - use a loop to add \"sb_\" to all the column names in df_sb except for the first column\n",
    "- Using applying functions\n",
    "    - create a function to fix remove the spaces in the numerical columns and convert them to floats\n",
    "    - Apply it to the df_mz and df_sb\n",
    "- Using lambda functions\n",
    "    - calculate the average maize and soybean yield using lambda functions\n",
    "- Using list comprehension\n",
    "    - Use list comprehension to check if the white maize price is higher then the yellow maize price and create a new column called white_higher. Use boolean values for this column.\n",
    "\n",
    "----\n",
    "----"
   ]
  }
 ],
 "metadata": {
  "kernelspec": {
   "display_name": "Python 3",
   "language": "python",
   "name": "python3"
  },
  "language_info": {
   "codemirror_mode": {
    "name": "ipython",
    "version": 3
   },
   "file_extension": ".py",
   "mimetype": "text/x-python",
   "name": "python",
   "nbconvert_exporter": "python",
   "pygments_lexer": "ipython3",
   "version": "3.9.13"
  }
 },
 "nbformat": 4,
 "nbformat_minor": 5
}
