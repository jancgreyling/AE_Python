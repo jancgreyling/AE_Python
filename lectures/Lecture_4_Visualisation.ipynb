{
 "cells": [
  {
   "cell_type": "markdown",
   "metadata": {},
   "source": [
    "# Data Visualization in Python\n",
    "\n",
    "## Python Libraries for Visualization\n",
    "\n",
    "Data visualization is an integral part of Exploratory Data Analysis (EDA) as it allows for a graphical representation of information and data. Python offers a range of libraries tailored for various visualization needs. Here, we'll introduce three of the most popular ones:\n",
    "\n",
    "- **Matplotlib**: One of the most widely used visualization libraries in Python, Matplotlib provides a flexible platform to create a vast array of static, animated, and interactive visualizations. It's highly customizable and serves as the foundation for many other plotting libraries.\n",
    "\n",
    "- **Seaborn**: Built on top of Matplotlib, Seaborn provides a higher-level interface for creating beautiful, statistically-themed visualizations. It comes with several built-in themes and color palettes to make aesthetically pleasing charts with ease.\n",
    "\n",
    "- **Plotly**: Unlike the other two, Plotly is mainly known for enabling interactive visualizations. It supports a multitude of chart types and is particularly useful when you want to create visualizations that users can interact with.\n",
    "\n",
    "To start working with these libraries, you'll first need to import them. Here's how you can do it:\n"
   ]
  },
  {
   "cell_type": "code",
   "execution_count": 1,
   "metadata": {},
   "outputs": [],
   "source": [
    "import matplotlib.pyplot as plt\n",
    "import seaborn as sns"
   ]
  },
  {
   "cell_type": "markdown",
   "metadata": {},
   "source": [
    "#### Matplotlib (`plt`)\n",
    "\n",
    "**Matplotlib** is the foundational library for many other Python plotting libraries. Here's a quick primer:\n",
    "\n",
    "- **Basic Plotting**\n",
    "\n",
    "    The `plot` method is used to create a basic line plot. It takes in an array of X-axis values and an array of corresponding Y-axis values as arguments. It also accepts an optional third argument for customizing the line style and color. \n",
    "\n",
    "    This plots `y` vs `x` as lines and markers."
   ]
  },
  {
   "cell_type": "code",
   "execution_count": null,
   "metadata": {},
   "outputs": [],
   "source": [
    "x = [1, 2, 3, 4, 5]\n",
    "y = [1, 4, 9, 16, 25]\n",
    "plt.plot(x, y)\n",
    "plt.show()"
   ]
  },
  {
   "cell_type": "markdown",
   "metadata": {},
   "source": [
    "- **Titles & Labels**: \n",
    "\n",
    "    You can use the `title`, `xlabel` and `ylabel` methods to set a title, X-axis label, and Y-axis label for the plot."
   ]
  },
  {
   "cell_type": "code",
   "execution_count": null,
   "metadata": {},
   "outputs": [],
   "source": [
    "plt.plot(x, y)\n",
    "plt.title(\"Square Numbers\")\n",
    "plt.xlabel(\"Value\")\n",
    "plt.ylabel(\"Square of Value\")\n",
    "plt.show()"
   ]
  },
  {
   "cell_type": "markdown",
   "metadata": {},
   "source": [
    "- **Multiple Plots**: \n",
    "    You can use the `subplot` method to create multiple plots on the same canvas. It takes in three arguments: the number of rows, number of columns, and the index of the active subplot (starts from 1, not 0). The `suptitle` method can be used to set the title for the entire plot."
   ]
  },
  {
   "cell_type": "code",
   "execution_count": null,
   "metadata": {},
   "outputs": [],
   "source": [
    "y2 = [1, 8, 27, 64, 125]\n",
    "plt.plot(x, y, label=\"Squares\")\n",
    "plt.plot(x, y2, label=\"Cubes\")\n",
    "plt.legend()  # To show the legend\n",
    "plt.show()"
   ]
  },
  {
   "cell_type": "markdown",
   "metadata": {},
   "source": [
    "#### Seaborn (`sns`)\n",
    "\n",
    "**Seaborn** is built on top of Matplotlib and offers a higher-level, more aesthetically pleasing interface:\n",
    "\n",
    "- **Histogram**:\n"
   ]
  },
  {
   "cell_type": "markdown",
   "metadata": {},
   "source": [
    "- **Box Plot**:\n",
    "\n",
    "    Here, `tips_dataset` would be a sample dataset you've loaded, and you're visualizing the total bill amounts by day."
   ]
  }
 ],
 "metadata": {
  "kernelspec": {
   "display_name": "base",
   "language": "python",
   "name": "python3"
  },
  "language_info": {
   "codemirror_mode": {
    "name": "ipython",
    "version": 3
   },
   "file_extension": ".py",
   "mimetype": "text/x-python",
   "name": "python",
   "nbconvert_exporter": "python",
   "pygments_lexer": "ipython3",
   "version": "3.9.13"
  },
  "orig_nbformat": 4
 },
 "nbformat": 4,
 "nbformat_minor": 2
}
