{
 "cells": [
  {
   "cell_type": "markdown",
   "metadata": {},
   "source": [
    "# Introduction to Systems Simulation in Python\n",
    "\n",
    "In this notebook, we explore various facets of systems simulation, a critical technique used to understand the behavior of systems over time. This approach is applied across a range of fields such as manufacturing, healthcare, economics, and more.\n",
    "\n",
    "The notebook is structured to offer:\n",
    "\n",
    "1. A grounding in the core concepts of systems simulation.\n",
    "2. Practical Python examples of basic simulations.\n",
    "3. A tutorial exercise to apply your learning.\n"
   ]
  },
  {
   "cell_type": "code",
   "execution_count": null,
   "metadata": {},
   "outputs": [],
   "source": [
    "# Import necessary libraries\n",
    "import numpy as np\n",
    "import matplotlib.pyplot as plt\n",
    "import simpy"
   ]
  },
  {
   "cell_type": "markdown",
   "metadata": {},
   "source": [
    "## Fundamental Concepts in Systems Simulation\n",
    "\n",
    "Before diving into practical examples, it's crucial to understand some key terms and concepts in the realm of systems simulation:\n",
    "\n",
    "- **System**: A set of interconnected entities that interact within an environment to function as a whole. \n",
    "- **Model**: A conceptual, mathematical, or computational representation of a system.\n",
    "- **Stochastic vs. Deterministic Models**: Stochastic models incorporate elements of randomness, while deterministic models do not. \n",
    "- **Discrete-Event vs. Continuous Simulation**: Discrete-event simulations handle state changes at discrete points in time, while continuous simulations model state changes over a continuous time frame.\n"
   ]
  },
  {
   "cell_type": "markdown",
   "metadata": {},
   "source": [
    "## Random Variables and Distributions\n",
    "\n",
    "Random variables play a crucial role in stochastic simulations. Python provides a rich ecosystem of libraries to generate random variables, and we'll explore how to generate these from various distributions.\n",
    "\n",
    "- **Uniform Distribution**: All outcomes are equally likely between the minimum and maximum values.\n",
    "- **Normal Distribution**: Data is symmetrically distributed around the mean, following the shape of a \"bell curve.\"\n",
    "- **Exponential Distribution**: Represents the time between events in a Poisson process.\n"
   ]
  },
  {
   "cell_type": "code",
   "execution_count": null,
   "metadata": {},
   "outputs": [],
   "source": [
    "# Generating random variables from different distributions\n",
    "uniform_random_variable = np.random.uniform(0, 1, 1000)\n",
    "normal_random_variable = np.random.normal(0, 1, 1000)\n",
    "exponential_random_variable = np.random.exponential(1, 1000)\n",
    "\n",
    "# Plotting\n",
    "plt.figure(figsize=(15, 5))\n",
    "\n",
    "plt.subplot(1, 3, 1)\n",
    "plt.hist(uniform_random_variable, bins=20, alpha=0.5, label='Uniform')\n",
    "plt.title('Uniform Distribution')\n",
    "\n",
    "plt.subplot(1, 3, 2)\n",
    "plt.hist(normal_random_variable, bins=20, alpha=0.5, label='Normal')\n",
    "plt.title('Normal Distribution')\n",
    "\n",
    "plt.subplot(1, 3, 3)\n",
    "plt.hist(exponential_random_variable, bins=20, alpha=0.5, label='Exponential')\n",
    "plt.title('Exponential Distribution')\n",
    "\n",
    "plt.show()\n"
   ]
  },
  {
   "cell_type": "markdown",
   "metadata": {},
   "source": [
    "## Stochastic vs. Deterministic Models\n",
    "Stochastic models incorporate elements of randomness, while deterministic models do not. \n",
    "\n",
    "### Deterministic Example\n",
    "In a deterministic model, the output is fixed given a set of inputs. For example, the formula \\( F = ma \\) in physics is deterministic; if you know the mass and acceleration, you can precisely calculate the force.\n",
    "\n",
    "### Stochastic Example\n",
    "In contrast, stochastic models involve randomness. For instance, the number of customers arriving at a service center can be modeled as a Poisson process, which is inherently random."
   ]
  },
  {
   "cell_type": "code",
   "execution_count": null,
   "metadata": {},
   "outputs": [],
   "source": [
    "# Deterministic example: Calculating force (F = ma)\n",
    "mass = 10  # kg\n",
    "acceleration = 9.81  # m/s^2\n",
    "force = mass * acceleration\n",
    "print(f\"Deterministic Force: {force} N\")\n",
    "\n",
    "# Stochastic example: Simulating customer arrivals using Poisson distribution\n",
    "import numpy as np\n",
    "average_arrival_rate = 5  # customers per hour\n",
    "num_hours = 10  # simulation time\n",
    "arrivals = np.random.poisson(average_arrival_rate, num_hours)\n",
    "print(f\"Stochastic Customer Arrivals: {arrivals}\")"
   ]
  },
  {
   "cell_type": "markdown",
   "metadata": {},
   "source": [
    "## Continuous Simulation Example\n",
    "\n",
    "Now, let's shift our focus to continuous simulation. We'll simulate the growth of a population over time, governed by the exponential growth equation:\n",
    "\n",
    "\\[ P(t) = P_0 \times e^{rt} \\]\n",
    "\n",
    "Where:\n",
    "- \\( P(t) \\) is the population at time \\( t \\)\n",
    "- \\( P_0 \\) is the initial population\n",
    "- \\( r \\) is the growth rate\n"
   ]
  },
  {
   "cell_type": "code",
   "execution_count": null,
   "metadata": {},
   "outputs": [],
   "source": [
    "\n",
    "# Continuous simulation of population growth\n",
    "\n",
    "# Parameters\n",
    "initial_population = 100\n",
    "growth_rate = 0.02  # 2% growth rate\n",
    "time_steps = np.linspace(0, 100, 400)\n",
    "\n",
    "# Simulation\n",
    "population = initial_population * np.exp(growth_rate * time_steps)\n",
    "\n",
    "# Plotting\n",
    "plt.figure(figsize=(10, 6))\n",
    "plt.plot(time_steps, population)\n",
    "plt.xlabel('Time')\n",
    "plt.ylabel('Population')\n",
    "plt.title('Population Growth Over Time')\n",
    "plt.grid(True)\n",
    "plt.show()\n"
   ]
  },
  {
   "cell_type": "markdown",
   "metadata": {},
   "source": [
    "## Tutorial Exercise: Simulate a Hospital System\n",
    "\n",
    "In this exercise, you are tasked with simulating a hospital system. The hospital system comprises various entities such as doctors, patients, and treatment rooms, and processes like patient arrival, diagnosis, treatment, and discharge.\n",
    "\n",
    "### Objectives\n",
    "\n",
    "1. Simulate the arrival of patients at the hospital using a Poisson process with an average arrival rate of 5 patients per hour.\n",
    "2. Implement the diagnosis and treatment processes, assuming that the time for these activities follows an exponential distribution with mean times of 10 and 20 minutes, respectively.\n",
    "3. Compute key performance metrics such as the average waiting time for a patient, the utilization rate of doctors, and the total time a patient spends in the hospital.\n",
    "\n",
    "### Hints\n",
    "\n",
    "- Utilize `simpy.Resource` for entities like doctors and treatment rooms.\n",
    "- Use `env.timeout()` to model the time durations for various activities.\n",
    "\n",
    "### Additional Resources\n",
    "\n",
    "For more functionalities and advanced features, you can refer to the SimPy documentation: [SimPy Documentation](https://simpy.readthedocs.io/en/latest/)\n"
   ]
  }
 ],
 "metadata": {
  "language_info": {
   "name": "python"
  },
  "orig_nbformat": 4
 },
 "nbformat": 4,
 "nbformat_minor": 2
}
