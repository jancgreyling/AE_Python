{
 "cells": [
  {
   "cell_type": "code",
   "execution_count": null,
   "metadata": {},
   "outputs": [],
   "source": []
  },
  {
   "cell_type": "markdown",
   "metadata": {},
   "source": [
    "Import the possum dataset as a dataframe and call it `df_pos`. Lets answer the following questions together: \n",
    "- How does the data look like - print the first five rows of the dataframe: `print(df_pos.head(5))`\n",
    "- What are the column names? `columns`\n",
    "- Print more info about the data? `info()`\n",
    "- What are the data types of the columns? `dtypes`\n",
    "- What is the structure of the dataframe? `shape`\n",
    "- Describe the data - what are the summary statistics of the dataframe? `describe()`\n",
    "- What is the average age of the possums? `print(df_pos[''].mean())\n",
    "\n",
    "\n",
    "Then, continuing from the previous exercise:\n",
    "- What is the average weight of the possums by sex?\n",
    "- What is the median age of the possums by site?\n",
    "- Rename the sites called populations called `other` to `bison`\n",
    "- Create a dummy variable called `old` that is 1 if the possum is older than 5 years and 0 otherwise\n",
    "- Calculate the body length of the possums and add it as a new column to the dataframe\n",
    "- Round weight to one decimal place and replace the weight column with the rounded values\n",
    "- Create a new column in the possum dataframe called `BMI` that is the body mass index of the possums. The formula for BMI is:\n",
    "\n",
    "    $$\n",
    "    BMI = \\frac{\\text{weight in kg}}{(\\text{height in m})^2}\n",
    "    $$\n",
    "    \n",
    "- Wild card: Please make a variable that you think is interesting and add it to the dataframe\n",
    "- Save your data to a new csv file called `possum_data_cleaned.csv` in the interim data folder"
   ]
  }
 ],
 "metadata": {
  "language_info": {
   "name": "python"
  },
  "orig_nbformat": 4
 },
 "nbformat": 4,
 "nbformat_minor": 2
}
