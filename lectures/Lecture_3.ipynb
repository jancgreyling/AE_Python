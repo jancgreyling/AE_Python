{
 "cells": [
  {
   "cell_type": "markdown",
   "metadata": {},
   "source": [
    "# Cleaning data"
   ]
  },
  {
   "cell_type": "markdown",
   "metadata": {},
   "source": [
    "## Reading Data\n",
    "\n",
    "- Reading data is the first step to any data analysis task.\n",
    "- Pandas offers versatile functions to read data from various file formats.\n",
    "  \n",
    "  **Example for reading from an Excel file**:\n",
    "  ```python\n",
    "  df = pd.read_excel('input.xlsx', sheet_name='Sheet1')\n",
    "  df\n",
    "  ```\n",
    "\n",
    "  **Example for reading from a CSV file**:\n",
    "  ```python\n",
    "  df = pd.read_csv('data/raw/input.csv')\n",
    "  df\n",
    "  ```\n",
    "\n",
    "- **File Formats**:\n",
    "  - Pandas provides functions to read from a wide range of sources, including:\n",
    "    - Text formats such as CSV, JSON, and HTML. Use `pd.read_csv()`, `pd.read_json()`, and `pd.read_html()` respectively.\n",
    "    - Binary formats such as Excel, HDF5, and Parquet. Use `pd.read_excel()`, `pd.read_hdf()`, and `pd.read_parquet()` respectively.\n",
    "    - SQL databases like SQLite, PostgreSQL, and MySQL. For this, a connection needs to be established with the respective database and then use `pd.read_sql_query()` or `pd.read_sql_table()` to fetch the data.\n",
    "\n",
    "Remember, when reading data, you need to specify the correct filepath to the data that you want to read. The filepath is the location of the file on your computer. If you are using Google Colab, you need to:\n",
    "1. mount your drive\n",
    "2. set your working directory\n",
    "3. specify the filepath to the data on your Google Drive."
   ]
  },
  {
   "cell_type": "markdown",
   "metadata": {},
   "source": [
    "----\n",
    "\n",
    "## Tutorial 3, Part 1: Reading Data Using Pandas\n",
    "\n",
    "Import the possum dataset as a dataframe and call it `df_pos`. Lets answer the following questions together: \n",
    "- How does the data look like - print the first five rows of the dataframe: `print(df_pos.head(5))`\n",
    "- What are the column names? `columns`\n",
    "- Print more info about the data? `info()`\n",
    "- What are the data types of the columns? `dtypes`\n",
    "- What is the structure of the dataframe? `shape`\n",
    "- Describe the data - what are the summary statistics of the dataframe? `describe()`\n",
    "- What is the average age of the possums? `print(df_pos[''].mean())\n",
    "\n",
    "----\n",
    "----"
   ]
  },
  {
   "cell_type": "markdown",
   "metadata": {},
   "source": [
    "\n",
    "Then, continuing from the previous exercise:\n",
    "- What is the average weight of the possums by sex?\n",
    "- What is the median age of the possums by site?\n",
    "- Rename the sites called populations called `other` to `bison`\n",
    "- Create a dummy variable called `old` that is 1 if the possum is older than 5 years and 0 otherwise\n",
    "- Calculate the body length of the possums and add it as a new column to the dataframe\n",
    "- Round weight to one decimal place and replace the weight column with the rounded values\n",
    "- Create a new column in the possum dataframe called `BMI` that is the body mass index of the possums. The formula for BMI is:\n",
    "\n",
    "    $$\n",
    "    BMI = \\frac{\\text{weight in kg}}{(\\text{height in m})^2}\n",
    "    $$\n",
    "    \n",
    "- Wild card: Please make a variable that you think is interesting and add it to the dataframe\n",
    "- Save your data to a new csv file called `possum_data_cleaned.csv` in the interim data folder"
   ]
  },
  {
   "cell_type": "markdown",
   "metadata": {},
   "source": [
    "## Writing Data\n",
    "  - DataFrames can be saved to a variety of file formats.\n",
    "  - Example for writing to an Excel file:\n",
    "    ```python\n",
    "    df.to_excel('output.xlsx', sheet_name='Sheet1', index=False)\n",
    "    ```\n",
    "\n",
    "- **File Formats**:\n",
    "  - Pandas supports a variety of file formats including:\n",
    "    - Text formats such as CSV, JSON, and HTML.\n",
    "    - Binary formats such as Excel, HDF5, and Parquet.\n",
    "    - SQL databases like SQLite, PostgreSQL, and MySQL."
   ]
  }
 ],
 "metadata": {
  "kernelspec": {
   "display_name": "base",
   "language": "python",
   "name": "python3"
  },
  "language_info": {
   "name": "python",
   "version": "3.9.13"
  },
  "orig_nbformat": 4
 },
 "nbformat": 4,
 "nbformat_minor": 2
}
