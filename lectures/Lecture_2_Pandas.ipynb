{
 "cells": [
  {
   "cell_type": "markdown",
   "metadata": {},
   "source": [
    "# Lecture 2: Git Fundamentals, Intro to Pandas & Python Functions\n",
    "\n",
    "## Part 1: Intro to Git & Its Application in Google Colab\n",
    "\n",
    "### Why Git? \n",
    "Git is a version control system that:\n",
    "- Helps track changes in code.\n",
    "- Facilitates collaboration.\n",
    "- Is essential for modern software development & data science.\n",
    "\n",
    "### Brief History:\n",
    "- **Created by**: Linus Torvalds.\n",
    "- **Year**: 2005.\n",
    "- **Purpose**: To have a distributed version control system for large projects without a central server dependency.\n",
    "\n",
    "### Git Workflow:\n",
    "- **Local Working Directory**: Directly work on files here.\n",
    "- **Staging Area**: Prepare and review commits.\n",
    "- **Local Repository**: Store commits on your machine.\n",
    "- **Remote Repository**: Hosted project version online or on a network.\n",
    "\n",
    "<img src=\"https://drive.google.com/uc?id=12Sz7YdjFoVmY49HJ4DzrzUkCwqsYxP0v\" alt=\"Alt text\" width=\"750\"/>\n",
    "\n",
    "### Key Commands:\n",
    "- `git clone`: Copy a repository.\n",
    "- `git stash`: Temporarily save changes.\n",
    "- `git pull`: Fetch updates from online repository.\n",
    "\n",
    "### Using Git in Google Colab:\n",
    "Google Colab allows terminal commands with a \"!\" prefix. It differentiates between Python and terminal commands (`bash`). Example:\n",
    "\n",
    "```python\n",
    "!git clone <repository_url>\n",
    "```"
   ]
  },
  {
   "cell_type": "markdown",
   "metadata": {},
   "source": [
    "## Exercise 1: Cloning your class repository\n",
    "\n",
    "IMPORTANT: If you get stuck - read this [page](https://medium.com/analytics-vidhya/how-to-use-google-colab-with-github-via-google-drive-68efb23a42d) and follow the instructions.\n",
    "\n",
    "From now on I'm not going to share individual notebooks with you but rather the class repository. You will need to clone the repository to your Google Drive and then open the notebooks from there. To do so you must follow the following steps.\n",
    "\n",
    "1. Open your Google Drive page and create a new folder called \"git_projects\" (you have must call it this, exactly) in your `My Drive` folder.\n",
    "2. Go to Google Colab and create a new notebook and call it `Project_Setup.ipynb`.\n",
    "3. Mount your Google Drive by running the following code in the first cell of your notebook:\n",
    "   ```python\n",
    "   from google.colab import drive\n",
    "   drive.mount('/content/drive')\n",
    "   ```\n",
    "4. Set your working directory to the folder you created in step 1 by running the following code in the second cell of your notebook:. Your working directory is the folder where you want to store your code. You can think of it as your \"workspace\".\n",
    "   ```python\n",
    "   %cd /content/drive/MyDrive/git_projects/\n",
    "   ```\n",
    "5. Clone the class repository by running the following code in the third cell of your notebook:\n",
    "   ```python\n",
    "   !git clone https://github.com/jancgreyling/AE_772_892.git\n",
    "   ```\n",
    "- This step will clone the repository and create a folder called `AE_772_892` in your `git_projects` folder.\n",
    "6. Open the `AE_772_892` folder in your Google Drive and navigate to the `Lectures` folder and open the notebook for this lecture. You can open it in Google Colab by right-clicking on the notebook and selecting `Open with` and then `Google Colaboratory`.\n",
    "\n",
    "**Note the following:**\n",
    "- You only need to do this once. From now on you can open the notebooks directly from your Google Drive.\n",
    "- Once you've created your repository, you cannot clone it again, if want the get update it with the latest changes, you can do so by pulling the latest version of the repo into your notebook:\n",
    "   ```python\n",
    "   !git pull\n",
    "   ```\n",
    "- YOU NEED TO DO THIS AT THE START OF EACH LECTURE TO GET THE LATEST NOTEBOOKS.\n",
    "- If you've made changes to the notebooks, you will get an error when you try to pull the latest changes. You will need to commit your changes first. We will discuss this in more detail in the next lecture. For now you can stash (move to a separate branch) your changes by running the following code:\n",
    "      ```python\n",
    "      !git stash\n",
    "      ```\n",
    "\n",
    "\n",
    "- VERY IMPORTANT:\n",
    "   - You can only run the code above if you are in the correct directory. If you are not in the correct directory, you will get an error. To change your directory, you can run the following code:\n",
    "      ```python\n",
    "      %cd /content/drive/MyDrive/git_projects/AE_772_892/\n",
    "      ```\n",
    "   - When repo is cloned, or initialised, it contains a set of hidden git folders. When you open the repo in Google Drive, and you see these folder, DO NOT DELETE THESE FOLDERS. If you do, you will break the link between your Google Drive and the GitHub repository.\n",
    "   - For this reason you you can only `stash` and `pull` code if you are in the correct directory. If you are not in the correct directory, you will get an error. To change your directory, you can run the following code:\n",
    "      ```python\n",
    "      %cd /content/drive/MyDrive/git_projects/AE_772_892/\n",
    "      ```"
   ]
  },
  {
   "cell_type": "markdown",
   "metadata": {},
   "source": [
    "# Week 2 Part II: Introduction to Pandas\n",
    "\n",
    "Pandas, derived from the term \"panel data,\" is a robust, open-source data analysis library for Python. It provides fast, flexible, and expressive data structures designed to work with both structured (tabular, multidimensional, and potentially heterogeneous) and time series data.\n",
    "\n",
    "## Basics of Pandas: Series and DataFrames\n",
    "\n",
    "- **Series**:\n",
    "  - A one-dimensional labeled array capable of holding any data type.\n",
    "  - It has an index and values.\n",
    "  - Example:\n",
    "    ```python\n",
    "    import pandas as pd\n",
    "    import numpy as np\n",
    "\n",
    "    s = pd.Series([1, 3, 5, np.nan, 6, 8])\n",
    "    print(s)\n",
    "    ```\n",
    "\n",
    "- **DataFrame**:\n",
    "  - A two-dimensional labeled data structure with rows and columns.\n",
    "  - Can be visualized like a spreadsheet or SQL table.\n",
    "  - Columns can be of different types (numeric, string, boolean, etc.).\n",
    "  - Example:"
   ]
  },
  {
   "cell_type": "code",
   "execution_count": 55,
   "metadata": {},
   "outputs": [
    {
     "name": "stdout",
     "output_type": "stream",
     "text": [
      "      name  age      city  salary\n",
      "0    Alice   25  New York   50000\n",
      "1      Bob   30    London   55000\n",
      "2  Charlie   35    Berlin   60000\n",
      "3    David   40  New York   65000\n",
      "4      Eve   45    London   70000\n",
      "5    Frank   30    Berlin   55000\n"
     ]
    }
   ],
   "source": [
    "import pandas as pd\n",
    "\n",
    "data = {\n",
    "    'name': ['Alice', 'Bob', 'Charlie', 'David', 'Eve', 'Frank'],\n",
    "    'age': [25, 30, 35, 40, 45, 30],\n",
    "    'city': ['New York', 'London', 'Berlin', 'New York', 'London', 'Berlin'],\n",
    "    'salary': [50000, 55000, 60000, 65000, 70000, 55000]}\n",
    "\n",
    "df = pd.DataFrame(data)\n",
    "print(df)"
   ]
  },
  {
   "cell_type": "markdown",
   "metadata": {},
   "source": [
    "## Data Manipulation: Filtering using logical statements"
   ]
  },
  {
   "cell_type": "markdown",
   "metadata": {},
   "source": [
    "See lecture 1 for a recap of logical statements, this is the pandas implementation thereof\n",
    "\n",
    "\n",
    "Use dataframe logical statements to select specific rows.\n",
    "  - Example to filter records where age is greater than 20:"
   ]
  },
  {
   "cell_type": "code",
   "execution_count": 56,
   "metadata": {},
   "outputs": [
    {
     "name": "stdout",
     "output_type": "stream",
     "text": [
      "      name  age      city  salary\n",
      "2  Charlie   35    Berlin   60000\n",
      "3    David   40  New York   65000\n",
      "4      Eve   45    London   70000\n"
     ]
    }
   ],
   "source": [
    "filtered_data = df[df['age'] > 30]\n",
    "print(filtered_data)"
   ]
  },
  {
   "cell_type": "markdown",
   "metadata": {},
   "source": [
    "Let's break down what is happing step by step:\n",
    "\n",
    "  1. **`df['age']`**: This part of the code selects the 'age' column from the DataFrame `df`. The result is a pandas Series containing all the values in the 'Age' column.\n",
    "\n",
    "  2. **`df['age'] > 30`**: This is a conditional operation that's applied to the 'age' Series. It will return another Series of the same length, but instead of ages, it will contain boolean values    \n",
    "    (`True` or `False`). A value will be `True` if the corresponding age is greater than 20, and `False` otherwise. For example, if `df['age']` contains `[18, 21, 19, 22, 25]`, then `df['age'] > 20` will \n",
    "    return `[False, True, False, True, True]`.\n",
    "\n",
    "  3. **`df[...]`**: The outer `df[...]` is used to index (or select) rows from the DataFrame `df`. When you use a boolean Series to index a DataFrame like this, pandas will select all rows that \n",
    "    correspond to `True` values in the boolean Series. Using our earlier example, only the rows with ages 21, 22, and 25 will be selected.\n",
    "\n",
    "  4. **`filtered_data = ...`**: The result of the above operations, which is a subset of the original DataFrame with only the rows where age is greater than 20, is then assigned to the variable \n",
    "    `filtered_data`.\n",
    "\n",
    "In essence, the logic of `filtered_data = df[df['age'] > 30]` is: \"From the DataFrame `df`, give me a new DataFrame (`filtered_data`) that only contains rows where the value in the 'Age' column is greater than 20.\"\n"
   ]
  },
  {
   "cell_type": "markdown",
   "metadata": {},
   "source": [
    "## Data Manipulation: Filtering using `loc` - location based indexing\n",
    "\n",
    "### Basics:\n",
    "\n",
    "The `loc` attribute is primarily label-based indexing. It's used to access a group of rows and columns by labels or a boolean array.\n",
    "\n",
    "### Syntax:\n",
    "```python\n",
    "dataframe.loc[row_indexer, column_indexer]\n",
    "```"
   ]
  },
  {
   "cell_type": "code",
   "execution_count": 62,
   "metadata": {},
   "outputs": [
    {
     "name": "stdout",
     "output_type": "stream",
     "text": [
      "      name  age      city  salary\n",
      "0    Alice   25  New York   50000\n",
      "1      Bob   30    London   55000\n",
      "2  Charlie   35    Berlin   60000\n",
      "3    David   40  New York   65000\n",
      "4      Eve   45    London   70000\n",
      "5    Frank   30    Berlin   55000\n"
     ]
    }
   ],
   "source": [
    "print(df)"
   ]
  },
  {
   "cell_type": "markdown",
   "metadata": {},
   "source": [
    "\n",
    "### Examples:\n",
    "\n",
    "1. **Selecting a Single Row by Index**:\n",
    "\n",
    "    Assuming indices are default integers:"
   ]
  },
  {
   "cell_type": "code",
   "execution_count": 63,
   "metadata": {},
   "outputs": [
    {
     "name": "stdout",
     "output_type": "stream",
     "text": [
      "name         Alice\n",
      "age             25\n",
      "city      New York\n",
      "salary       50000\n",
      "Name: 0, dtype: object\n",
      "\n",
      "    name  age      city  salary\n",
      "0  Alice   25  New York   50000\n"
     ]
    }
   ],
   "source": [
    "row_0_series = df.loc[0]\n",
    "row_0_df = df.loc[[0]]\n",
    "\n",
    "print(row_0_series)\n",
    "print(\"\")\n",
    "print(row_0_df)"
   ]
  },
  {
   "cell_type": "markdown",
   "metadata": {},
   "source": [
    "2. **Selecting Rows by Range of Index**:\n",
    "\n",
    "    Get rows 1 through 3:"
   ]
  },
  {
   "cell_type": "code",
   "execution_count": 64,
   "metadata": {},
   "outputs": [
    {
     "name": "stdout",
     "output_type": "stream",
     "text": [
      "      name  age      city  salary\n",
      "1      Bob   30    London   55000\n",
      "2  Charlie   35    Berlin   60000\n",
      "3    David   40  New York   65000\n"
     ]
    }
   ],
   "source": [
    "rows_1_to_3 = df.loc[1:3]\n",
    "print(rows_1_to_3)"
   ]
  },
  {
   "cell_type": "markdown",
   "metadata": {},
   "source": [
    "3. **Selecting Specific Columns for Specific Rows**:\n",
    "\n",
    "    For rows 1 through 3, get columns 'name' and 'age':"
   ]
  },
  {
   "cell_type": "code",
   "execution_count": 65,
   "metadata": {},
   "outputs": [
    {
     "name": "stdout",
     "output_type": "stream",
     "text": [
      "      name  age\n",
      "1      Bob   30\n",
      "2  Charlie   35\n",
      "3    David   40\n"
     ]
    }
   ],
   "source": [
    "subset = df.loc[1:3, ['name', 'age']]\n",
    "print(subset)"
   ]
  },
  {
   "cell_type": "markdown",
   "metadata": {},
   "source": [
    "\n",
    "\n",
    "4. **Selecting All Rows for Specific Columns**:\n"
   ]
  },
  {
   "cell_type": "code",
   "execution_count": 66,
   "metadata": {},
   "outputs": [
    {
     "name": "stdout",
     "output_type": "stream",
     "text": [
      "      name      city\n",
      "0    Alice  New York\n",
      "1      Bob    London\n",
      "2  Charlie    Berlin\n",
      "3    David  New York\n",
      "4      Eve    London\n",
      "5    Frank    Berlin\n"
     ]
    }
   ],
   "source": [
    "names_and_cities = df.loc[:, ['name', 'city']]\n",
    "print(names_and_cities)"
   ]
  },
  {
   "cell_type": "markdown",
   "metadata": {},
   "source": [
    "5. **Using Boolean Conditions**:\n",
    "\n",
    "    Select all rows where age is above 30:"
   ]
  },
  {
   "cell_type": "code",
   "execution_count": 67,
   "metadata": {},
   "outputs": [
    {
     "name": "stdout",
     "output_type": "stream",
     "text": [
      "      name  age      city  salary\n",
      "2  Charlie   35    Berlin   60000\n",
      "3    David   40  New York   65000\n",
      "4      Eve   45    London   70000\n"
     ]
    }
   ],
   "source": [
    "above_30 = df.loc[df['age'] > 30]\n",
    "print(above_30)"
   ]
  },
  {
   "cell_type": "markdown",
   "metadata": {},
   "source": [
    "6. **Using Multiple Conditions**:\n",
    "    Select all rows where age is above 30 and city is 'London':"
   ]
  },
  {
   "cell_type": "code",
   "execution_count": 68,
   "metadata": {},
   "outputs": [
    {
     "data": {
      "text/html": [
       "<div>\n",
       "<style scoped>\n",
       "    .dataframe tbody tr th:only-of-type {\n",
       "        vertical-align: middle;\n",
       "    }\n",
       "\n",
       "    .dataframe tbody tr th {\n",
       "        vertical-align: top;\n",
       "    }\n",
       "\n",
       "    .dataframe thead th {\n",
       "        text-align: right;\n",
       "    }\n",
       "</style>\n",
       "<table border=\"1\" class=\"dataframe\">\n",
       "  <thead>\n",
       "    <tr style=\"text-align: right;\">\n",
       "      <th></th>\n",
       "      <th>name</th>\n",
       "      <th>age</th>\n",
       "      <th>city</th>\n",
       "      <th>salary</th>\n",
       "    </tr>\n",
       "  </thead>\n",
       "  <tbody>\n",
       "    <tr>\n",
       "      <th>4</th>\n",
       "      <td>Eve</td>\n",
       "      <td>45</td>\n",
       "      <td>London</td>\n",
       "      <td>70000</td>\n",
       "    </tr>\n",
       "  </tbody>\n",
       "</table>\n",
       "</div>"
      ],
      "text/plain": [
       "  name  age    city  salary\n",
       "4  Eve   45  London   70000"
      ]
     },
     "execution_count": 68,
     "metadata": {},
     "output_type": "execute_result"
    }
   ],
   "source": [
    "london_above_30 = df.loc[(df['age'] > 30) & (df['city'] == 'London')]\n",
    "london_above_30"
   ]
  },
  {
   "cell_type": "markdown",
   "metadata": {},
   "source": [
    "\n",
    "\n",
    "7. **Setting Values for Specific Rows/Columns**:\n",
    "    Set age to 40 for the person named 'Alice':"
   ]
  },
  {
   "cell_type": "code",
   "execution_count": 69,
   "metadata": {},
   "outputs": [],
   "source": [
    "df.loc[df['name'] == 'Alice', 'age'] = 40"
   ]
  },
  {
   "cell_type": "markdown",
   "metadata": {},
   "source": [
    "\n",
    "### Important Points:\n",
    "\n",
    "- When using `loc` with a single bracket (like `df.loc[2]`), it'll return a Series representing that row. If you want it as a DataFrame, use a double bracket (like `df.loc[[2]]`).\n",
    "\n",
    "- The end value in a range specified in `loc` (like `df.loc[1:3]`) is **inclusive**, which is different from Python's standard slicing where the end value is exclusive.\n",
    "\n",
    "- Always ensure the values you're using within `loc` match the data type of the index. If the index is of string type, use string values, and so on.\n",
    "\n",
    "- Be careful when modifying slices. You're directly modifying the original DataFrame unless you explicitly work on a copy.\n"
   ]
  },
  {
   "cell_type": "markdown",
   "metadata": {},
   "source": [
    "____\n",
    "\n",
    "## Tutorial 2, Part 1: Creating a dataframe\n",
    "\n",
    "First\n",
    "- Create a new Jupyter notebook\n",
    "- Rename it to \\<your_name>\\<Lecture_2_Tutorial>\n",
    "- Share with me: jan5020@gmail.com\n",
    "\n",
    "Then setup your notebook by following the steps below:\n",
    "\n",
    "1. Mount your Google Drive by running the following cell and following the instructions:\n",
    "\n",
    "   ```python\n",
    "   from google.colab import drive\n",
    "   drive.mount('/content/drive')\n",
    "   ```\n",
    "\n",
    "2. Set your working directory to the folder where you have your data:\n",
    "\n",
    "   ```python\n",
    "   %cd /content/drive/MyDrive/git_projects/AE_Python_Git\n",
    "   ```\n",
    "\n",
    "Now do the following:\n",
    "\n",
    "- Create a dataframe using fictional data with the following columns for 5 people in a class and call it `df_class`:\n",
    "  - Name\n",
    "  - Surname\n",
    "  - Age\n",
    "  - Home Province\n",
    "  - Favorite Color\n",
    "  - Favorite Food\n",
    "  - Course target mark\n",
    "- What is the average age of the class?\n",
    "- Use your dataset to illustrate the difference between `loc` and `iloc` by selecting the name of the first person in the class using both methods.\n",
    "\n",
    "____\n",
    "____"
   ]
  },
  {
   "cell_type": "markdown",
   "metadata": {},
   "source": [
    "## Data Manipulation: Subsetting\n",
    "\n",
    "### General subsetting\n",
    "\n",
    "**Subsetting using one column**:\n",
    "   Select only the 'Name' column:"
   ]
  },
  {
   "cell_type": "code",
   "execution_count": 70,
   "metadata": {},
   "outputs": [
    {
     "data": {
      "text/plain": [
       "0      Alice\n",
       "1        Bob\n",
       "2    Charlie\n",
       "3      David\n",
       "4        Eve\n",
       "5      Frank\n",
       "Name: name, dtype: object"
      ]
     },
     "execution_count": 70,
     "metadata": {},
     "output_type": "execute_result"
    }
   ],
   "source": [
    "names = df['name']\n",
    "names"
   ]
  },
  {
   "cell_type": "markdown",
   "metadata": {},
   "source": [
    "Note the difference..."
   ]
  },
  {
   "cell_type": "code",
   "execution_count": 71,
   "metadata": {},
   "outputs": [
    {
     "data": {
      "text/html": [
       "<div>\n",
       "<style scoped>\n",
       "    .dataframe tbody tr th:only-of-type {\n",
       "        vertical-align: middle;\n",
       "    }\n",
       "\n",
       "    .dataframe tbody tr th {\n",
       "        vertical-align: top;\n",
       "    }\n",
       "\n",
       "    .dataframe thead th {\n",
       "        text-align: right;\n",
       "    }\n",
       "</style>\n",
       "<table border=\"1\" class=\"dataframe\">\n",
       "  <thead>\n",
       "    <tr style=\"text-align: right;\">\n",
       "      <th></th>\n",
       "      <th>name</th>\n",
       "    </tr>\n",
       "  </thead>\n",
       "  <tbody>\n",
       "    <tr>\n",
       "      <th>0</th>\n",
       "      <td>Alice</td>\n",
       "    </tr>\n",
       "    <tr>\n",
       "      <th>1</th>\n",
       "      <td>Bob</td>\n",
       "    </tr>\n",
       "    <tr>\n",
       "      <th>2</th>\n",
       "      <td>Charlie</td>\n",
       "    </tr>\n",
       "    <tr>\n",
       "      <th>3</th>\n",
       "      <td>David</td>\n",
       "    </tr>\n",
       "    <tr>\n",
       "      <th>4</th>\n",
       "      <td>Eve</td>\n",
       "    </tr>\n",
       "    <tr>\n",
       "      <th>5</th>\n",
       "      <td>Frank</td>\n",
       "    </tr>\n",
       "  </tbody>\n",
       "</table>\n",
       "</div>"
      ],
      "text/plain": [
       "      name\n",
       "0    Alice\n",
       "1      Bob\n",
       "2  Charlie\n",
       "3    David\n",
       "4      Eve\n",
       "5    Frank"
      ]
     },
     "execution_count": 71,
     "metadata": {},
     "output_type": "execute_result"
    }
   ],
   "source": [
    "names = df[['name']]\n",
    "names"
   ]
  },
  {
   "cell_type": "markdown",
   "metadata": {},
   "source": [
    "**Subsetting with more than one column**:\n",
    "   Select the 'Name' and 'City' columns:"
   ]
  },
  {
   "cell_type": "code",
   "execution_count": 72,
   "metadata": {},
   "outputs": [
    {
     "data": {
      "text/html": [
       "<div>\n",
       "<style scoped>\n",
       "    .dataframe tbody tr th:only-of-type {\n",
       "        vertical-align: middle;\n",
       "    }\n",
       "\n",
       "    .dataframe tbody tr th {\n",
       "        vertical-align: top;\n",
       "    }\n",
       "\n",
       "    .dataframe thead th {\n",
       "        text-align: right;\n",
       "    }\n",
       "</style>\n",
       "<table border=\"1\" class=\"dataframe\">\n",
       "  <thead>\n",
       "    <tr style=\"text-align: right;\">\n",
       "      <th></th>\n",
       "      <th>name</th>\n",
       "      <th>city</th>\n",
       "    </tr>\n",
       "  </thead>\n",
       "  <tbody>\n",
       "    <tr>\n",
       "      <th>0</th>\n",
       "      <td>Alice</td>\n",
       "      <td>New York</td>\n",
       "    </tr>\n",
       "    <tr>\n",
       "      <th>1</th>\n",
       "      <td>Bob</td>\n",
       "      <td>London</td>\n",
       "    </tr>\n",
       "    <tr>\n",
       "      <th>2</th>\n",
       "      <td>Charlie</td>\n",
       "      <td>Berlin</td>\n",
       "    </tr>\n",
       "    <tr>\n",
       "      <th>3</th>\n",
       "      <td>David</td>\n",
       "      <td>New York</td>\n",
       "    </tr>\n",
       "    <tr>\n",
       "      <th>4</th>\n",
       "      <td>Eve</td>\n",
       "      <td>London</td>\n",
       "    </tr>\n",
       "    <tr>\n",
       "      <th>5</th>\n",
       "      <td>Frank</td>\n",
       "      <td>Berlin</td>\n",
       "    </tr>\n",
       "  </tbody>\n",
       "</table>\n",
       "</div>"
      ],
      "text/plain": [
       "      name      city\n",
       "0    Alice  New York\n",
       "1      Bob    London\n",
       "2  Charlie    Berlin\n",
       "3    David  New York\n",
       "4      Eve    London\n",
       "5    Frank    Berlin"
      ]
     },
     "execution_count": 72,
     "metadata": {},
     "output_type": "execute_result"
    }
   ],
   "source": [
    "subset = df[['name', 'city']]\n",
    "subset"
   ]
  },
  {
   "cell_type": "markdown",
   "metadata": {},
   "source": [
    "**Subsetting using text data**:\n",
    "   Select rows where 'City' is 'London':\n"
   ]
  },
  {
   "cell_type": "code",
   "execution_count": 73,
   "metadata": {},
   "outputs": [
    {
     "data": {
      "text/html": [
       "<div>\n",
       "<style scoped>\n",
       "    .dataframe tbody tr th:only-of-type {\n",
       "        vertical-align: middle;\n",
       "    }\n",
       "\n",
       "    .dataframe tbody tr th {\n",
       "        vertical-align: top;\n",
       "    }\n",
       "\n",
       "    .dataframe thead th {\n",
       "        text-align: right;\n",
       "    }\n",
       "</style>\n",
       "<table border=\"1\" class=\"dataframe\">\n",
       "  <thead>\n",
       "    <tr style=\"text-align: right;\">\n",
       "      <th></th>\n",
       "      <th>name</th>\n",
       "      <th>age</th>\n",
       "      <th>city</th>\n",
       "      <th>salary</th>\n",
       "    </tr>\n",
       "  </thead>\n",
       "  <tbody>\n",
       "    <tr>\n",
       "      <th>1</th>\n",
       "      <td>Bob</td>\n",
       "      <td>30</td>\n",
       "      <td>London</td>\n",
       "      <td>55000</td>\n",
       "    </tr>\n",
       "    <tr>\n",
       "      <th>4</th>\n",
       "      <td>Eve</td>\n",
       "      <td>45</td>\n",
       "      <td>London</td>\n",
       "      <td>70000</td>\n",
       "    </tr>\n",
       "  </tbody>\n",
       "</table>\n",
       "</div>"
      ],
      "text/plain": [
       "  name  age    city  salary\n",
       "1  Bob   30  London   55000\n",
       "4  Eve   45  London   70000"
      ]
     },
     "execution_count": 73,
     "metadata": {},
     "output_type": "execute_result"
    }
   ],
   "source": [
    "london_data = df[df['city'] == 'London']\n",
    "london_data"
   ]
  },
  {
   "cell_type": "markdown",
   "metadata": {},
   "source": [
    "**Subsetting using multiple conditions**:\n",
    "   Select rows where 'City' is 'London' and 'Age' is greater than 30:"
   ]
  },
  {
   "cell_type": "code",
   "execution_count": 74,
   "metadata": {},
   "outputs": [
    {
     "data": {
      "text/html": [
       "<div>\n",
       "<style scoped>\n",
       "    .dataframe tbody tr th:only-of-type {\n",
       "        vertical-align: middle;\n",
       "    }\n",
       "\n",
       "    .dataframe tbody tr th {\n",
       "        vertical-align: top;\n",
       "    }\n",
       "\n",
       "    .dataframe thead th {\n",
       "        text-align: right;\n",
       "    }\n",
       "</style>\n",
       "<table border=\"1\" class=\"dataframe\">\n",
       "  <thead>\n",
       "    <tr style=\"text-align: right;\">\n",
       "      <th></th>\n",
       "      <th>name</th>\n",
       "      <th>age</th>\n",
       "      <th>city</th>\n",
       "      <th>salary</th>\n",
       "    </tr>\n",
       "  </thead>\n",
       "  <tbody>\n",
       "    <tr>\n",
       "      <th>4</th>\n",
       "      <td>Eve</td>\n",
       "      <td>45</td>\n",
       "      <td>London</td>\n",
       "      <td>70000</td>\n",
       "    </tr>\n",
       "  </tbody>\n",
       "</table>\n",
       "</div>"
      ],
      "text/plain": [
       "  name  age    city  salary\n",
       "4  Eve   45  London   70000"
      ]
     },
     "execution_count": 74,
     "metadata": {},
     "output_type": "execute_result"
    }
   ],
   "source": [
    "specific_data = df[(df['city'] == 'London') & (df['age'] > 30)]\n",
    "specific_data"
   ]
  },
  {
   "cell_type": "markdown",
   "metadata": {},
   "source": [
    "**Using `isin`**:\n",
    "   Select rows where 'Name' is either 'Alice' or 'Bob':\n"
   ]
  },
  {
   "cell_type": "code",
   "execution_count": 75,
   "metadata": {},
   "outputs": [
    {
     "data": {
      "text/html": [
       "<div>\n",
       "<style scoped>\n",
       "    .dataframe tbody tr th:only-of-type {\n",
       "        vertical-align: middle;\n",
       "    }\n",
       "\n",
       "    .dataframe tbody tr th {\n",
       "        vertical-align: top;\n",
       "    }\n",
       "\n",
       "    .dataframe thead th {\n",
       "        text-align: right;\n",
       "    }\n",
       "</style>\n",
       "<table border=\"1\" class=\"dataframe\">\n",
       "  <thead>\n",
       "    <tr style=\"text-align: right;\">\n",
       "      <th></th>\n",
       "      <th>name</th>\n",
       "      <th>age</th>\n",
       "      <th>city</th>\n",
       "      <th>salary</th>\n",
       "    </tr>\n",
       "  </thead>\n",
       "  <tbody>\n",
       "    <tr>\n",
       "      <th>0</th>\n",
       "      <td>Alice</td>\n",
       "      <td>40</td>\n",
       "      <td>New York</td>\n",
       "      <td>50000</td>\n",
       "    </tr>\n",
       "    <tr>\n",
       "      <th>1</th>\n",
       "      <td>Bob</td>\n",
       "      <td>30</td>\n",
       "      <td>London</td>\n",
       "      <td>55000</td>\n",
       "    </tr>\n",
       "  </tbody>\n",
       "</table>\n",
       "</div>"
      ],
      "text/plain": [
       "    name  age      city  salary\n",
       "0  Alice   40  New York   50000\n",
       "1    Bob   30    London   55000"
      ]
     },
     "execution_count": 75,
     "metadata": {},
     "output_type": "execute_result"
    }
   ],
   "source": [
    "specific_names = df[df['name'].isin(['Alice', 'Bob'])]\n",
    "specific_names"
   ]
  },
  {
   "cell_type": "markdown",
   "metadata": {},
   "source": [
    "**Using `isin` for \"is not in\" condition**:\n",
    "\n",
    "   To filter rows where the 'name' is neither 'Alice' nor 'Bob':"
   ]
  },
  {
   "cell_type": "code",
   "execution_count": 76,
   "metadata": {},
   "outputs": [
    {
     "data": {
      "text/html": [
       "<div>\n",
       "<style scoped>\n",
       "    .dataframe tbody tr th:only-of-type {\n",
       "        vertical-align: middle;\n",
       "    }\n",
       "\n",
       "    .dataframe tbody tr th {\n",
       "        vertical-align: top;\n",
       "    }\n",
       "\n",
       "    .dataframe thead th {\n",
       "        text-align: right;\n",
       "    }\n",
       "</style>\n",
       "<table border=\"1\" class=\"dataframe\">\n",
       "  <thead>\n",
       "    <tr style=\"text-align: right;\">\n",
       "      <th></th>\n",
       "      <th>name</th>\n",
       "      <th>age</th>\n",
       "      <th>city</th>\n",
       "      <th>salary</th>\n",
       "    </tr>\n",
       "  </thead>\n",
       "  <tbody>\n",
       "    <tr>\n",
       "      <th>2</th>\n",
       "      <td>Charlie</td>\n",
       "      <td>35</td>\n",
       "      <td>Berlin</td>\n",
       "      <td>60000</td>\n",
       "    </tr>\n",
       "    <tr>\n",
       "      <th>3</th>\n",
       "      <td>David</td>\n",
       "      <td>40</td>\n",
       "      <td>New York</td>\n",
       "      <td>65000</td>\n",
       "    </tr>\n",
       "    <tr>\n",
       "      <th>4</th>\n",
       "      <td>Eve</td>\n",
       "      <td>45</td>\n",
       "      <td>London</td>\n",
       "      <td>70000</td>\n",
       "    </tr>\n",
       "    <tr>\n",
       "      <th>5</th>\n",
       "      <td>Frank</td>\n",
       "      <td>30</td>\n",
       "      <td>Berlin</td>\n",
       "      <td>55000</td>\n",
       "    </tr>\n",
       "  </tbody>\n",
       "</table>\n",
       "</div>"
      ],
      "text/plain": [
       "      name  age      city  salary\n",
       "2  Charlie   35    Berlin   60000\n",
       "3    David   40  New York   65000\n",
       "4      Eve   45    London   70000\n",
       "5    Frank   30    Berlin   55000"
      ]
     },
     "execution_count": 76,
     "metadata": {},
     "output_type": "execute_result"
    }
   ],
   "source": [
    "not_specific_names = df[~df['name'].isin(['Alice', 'Bob'])]\n",
    "not_specific_names"
   ]
  },
  {
   "cell_type": "markdown",
   "metadata": {},
   "source": [
    "   The `~` operator is a bitwise negation, which inverts the boolean values returned by the `isin` method, effectively giving us the \"is not in\" condition."
   ]
  },
  {
   "cell_type": "markdown",
   "metadata": {},
   "source": [
    "## Data Manipulation: Sorting\n",
    "\n",
    "  - Arrange data based on the values of specific columns.\n",
    "  - Example for sorting by age:\n"
   ]
  },
  {
   "cell_type": "code",
   "execution_count": 77,
   "metadata": {},
   "outputs": [
    {
     "name": "stdout",
     "output_type": "stream",
     "text": [
      "      name  age      city  salary\n",
      "4      Eve   45    London   70000\n",
      "0    Alice   40  New York   50000\n",
      "3    David   40  New York   65000\n",
      "2  Charlie   35    Berlin   60000\n",
      "1      Bob   30    London   55000\n",
      "5    Frank   30    Berlin   55000\n"
     ]
    }
   ],
   "source": [
    "sorted_data = df.sort_values(by='age', ascending=False)\n",
    "print(sorted_data)"
   ]
  },
  {
   "cell_type": "markdown",
   "metadata": {},
   "source": [
    "**Sorting by multiple variables in different directions**:\n",
    "   Sort by 'City' in ascending order and then by 'Age' in descending order:"
   ]
  },
  {
   "cell_type": "code",
   "execution_count": 78,
   "metadata": {},
   "outputs": [
    {
     "data": {
      "text/html": [
       "<div>\n",
       "<style scoped>\n",
       "    .dataframe tbody tr th:only-of-type {\n",
       "        vertical-align: middle;\n",
       "    }\n",
       "\n",
       "    .dataframe tbody tr th {\n",
       "        vertical-align: top;\n",
       "    }\n",
       "\n",
       "    .dataframe thead th {\n",
       "        text-align: right;\n",
       "    }\n",
       "</style>\n",
       "<table border=\"1\" class=\"dataframe\">\n",
       "  <thead>\n",
       "    <tr style=\"text-align: right;\">\n",
       "      <th></th>\n",
       "      <th>name</th>\n",
       "      <th>age</th>\n",
       "      <th>city</th>\n",
       "      <th>salary</th>\n",
       "    </tr>\n",
       "  </thead>\n",
       "  <tbody>\n",
       "    <tr>\n",
       "      <th>2</th>\n",
       "      <td>Charlie</td>\n",
       "      <td>35</td>\n",
       "      <td>Berlin</td>\n",
       "      <td>60000</td>\n",
       "    </tr>\n",
       "    <tr>\n",
       "      <th>5</th>\n",
       "      <td>Frank</td>\n",
       "      <td>30</td>\n",
       "      <td>Berlin</td>\n",
       "      <td>55000</td>\n",
       "    </tr>\n",
       "    <tr>\n",
       "      <th>4</th>\n",
       "      <td>Eve</td>\n",
       "      <td>45</td>\n",
       "      <td>London</td>\n",
       "      <td>70000</td>\n",
       "    </tr>\n",
       "    <tr>\n",
       "      <th>1</th>\n",
       "      <td>Bob</td>\n",
       "      <td>30</td>\n",
       "      <td>London</td>\n",
       "      <td>55000</td>\n",
       "    </tr>\n",
       "    <tr>\n",
       "      <th>0</th>\n",
       "      <td>Alice</td>\n",
       "      <td>40</td>\n",
       "      <td>New York</td>\n",
       "      <td>50000</td>\n",
       "    </tr>\n",
       "    <tr>\n",
       "      <th>3</th>\n",
       "      <td>David</td>\n",
       "      <td>40</td>\n",
       "      <td>New York</td>\n",
       "      <td>65000</td>\n",
       "    </tr>\n",
       "  </tbody>\n",
       "</table>\n",
       "</div>"
      ],
      "text/plain": [
       "      name  age      city  salary\n",
       "2  Charlie   35    Berlin   60000\n",
       "5    Frank   30    Berlin   55000\n",
       "4      Eve   45    London   70000\n",
       "1      Bob   30    London   55000\n",
       "0    Alice   40  New York   50000\n",
       "3    David   40  New York   65000"
      ]
     },
     "execution_count": 78,
     "metadata": {},
     "output_type": "execute_result"
    }
   ],
   "source": [
    "sorted_df = df.sort_values(by=['city', 'age'], ascending=[True, False])\n",
    "sorted_df"
   ]
  },
  {
   "cell_type": "markdown",
   "metadata": {},
   "source": [
    "## Data Manipulation: Creating variables in Pandas\n",
    "\n",
    "1. **Basic Assignment**:"
   ]
  },
  {
   "cell_type": "code",
   "execution_count": 80,
   "metadata": {},
   "outputs": [
    {
     "name": "stdout",
     "output_type": "stream",
     "text": [
      "      name  age      city  salary  bonus\n",
      "0    Alice   40  New York   50000    500\n",
      "1      Bob   30    London   55000    500\n",
      "2  Charlie   35    Berlin   60000    500\n",
      "3    David   40  New York   65000    500\n",
      "4      Eve   45    London   70000    500\n",
      "5    Frank   30    Berlin   55000    500\n"
     ]
    }
   ],
   "source": [
    "df['bonus'] = 500  # Adds a new column named 'new_column' with all values set to 100\n",
    "print(df)"
   ]
  },
  {
   "cell_type": "markdown",
   "metadata": {},
   "source": [
    "2. **Using Mathematical Operations**:\n",
    "    Suppose you have 'salary' and 'bonus' columns and want to compute the total compensation:"
   ]
  },
  {
   "cell_type": "code",
   "execution_count": 81,
   "metadata": {},
   "outputs": [
    {
     "name": "stdout",
     "output_type": "stream",
     "text": [
      "      name  age      city  salary  bonus  total_compensation\n",
      "0    Alice   40  New York   50000    500               50500\n",
      "1      Bob   30    London   55000    500               55500\n",
      "2  Charlie   35    Berlin   60000    500               60500\n",
      "3    David   40  New York   65000    500               65500\n",
      "4      Eve   45    London   70000    500               70500\n",
      "5    Frank   30    Berlin   55000    500               55500\n"
     ]
    }
   ],
   "source": [
    "df['total_compensation'] = df['salary'] + df['bonus']\n",
    "print(df)"
   ]
  },
  {
   "cell_type": "markdown",
   "metadata": {},
   "source": [
    "3. **Using String Operations**:\n",
    "    If you have a 'name' column and want to create a new column with the name length:\n"
   ]
  },
  {
   "cell_type": "code",
   "execution_count": 82,
   "metadata": {},
   "outputs": [
    {
     "data": {
      "text/html": [
       "<div>\n",
       "<style scoped>\n",
       "    .dataframe tbody tr th:only-of-type {\n",
       "        vertical-align: middle;\n",
       "    }\n",
       "\n",
       "    .dataframe tbody tr th {\n",
       "        vertical-align: top;\n",
       "    }\n",
       "\n",
       "    .dataframe thead th {\n",
       "        text-align: right;\n",
       "    }\n",
       "</style>\n",
       "<table border=\"1\" class=\"dataframe\">\n",
       "  <thead>\n",
       "    <tr style=\"text-align: right;\">\n",
       "      <th></th>\n",
       "      <th>name</th>\n",
       "      <th>age</th>\n",
       "      <th>city</th>\n",
       "      <th>salary</th>\n",
       "      <th>bonus</th>\n",
       "      <th>total_compensation</th>\n",
       "      <th>name_length</th>\n",
       "    </tr>\n",
       "  </thead>\n",
       "  <tbody>\n",
       "    <tr>\n",
       "      <th>0</th>\n",
       "      <td>Alice</td>\n",
       "      <td>40</td>\n",
       "      <td>New York</td>\n",
       "      <td>50000</td>\n",
       "      <td>500</td>\n",
       "      <td>50500</td>\n",
       "      <td>5</td>\n",
       "    </tr>\n",
       "    <tr>\n",
       "      <th>1</th>\n",
       "      <td>Bob</td>\n",
       "      <td>30</td>\n",
       "      <td>London</td>\n",
       "      <td>55000</td>\n",
       "      <td>500</td>\n",
       "      <td>55500</td>\n",
       "      <td>3</td>\n",
       "    </tr>\n",
       "    <tr>\n",
       "      <th>2</th>\n",
       "      <td>Charlie</td>\n",
       "      <td>35</td>\n",
       "      <td>Berlin</td>\n",
       "      <td>60000</td>\n",
       "      <td>500</td>\n",
       "      <td>60500</td>\n",
       "      <td>7</td>\n",
       "    </tr>\n",
       "    <tr>\n",
       "      <th>3</th>\n",
       "      <td>David</td>\n",
       "      <td>40</td>\n",
       "      <td>New York</td>\n",
       "      <td>65000</td>\n",
       "      <td>500</td>\n",
       "      <td>65500</td>\n",
       "      <td>5</td>\n",
       "    </tr>\n",
       "    <tr>\n",
       "      <th>4</th>\n",
       "      <td>Eve</td>\n",
       "      <td>45</td>\n",
       "      <td>London</td>\n",
       "      <td>70000</td>\n",
       "      <td>500</td>\n",
       "      <td>70500</td>\n",
       "      <td>3</td>\n",
       "    </tr>\n",
       "    <tr>\n",
       "      <th>5</th>\n",
       "      <td>Frank</td>\n",
       "      <td>30</td>\n",
       "      <td>Berlin</td>\n",
       "      <td>55000</td>\n",
       "      <td>500</td>\n",
       "      <td>55500</td>\n",
       "      <td>5</td>\n",
       "    </tr>\n",
       "  </tbody>\n",
       "</table>\n",
       "</div>"
      ],
      "text/plain": [
       "      name  age      city  salary  bonus  total_compensation  name_length\n",
       "0    Alice   40  New York   50000    500               50500            5\n",
       "1      Bob   30    London   55000    500               55500            3\n",
       "2  Charlie   35    Berlin   60000    500               60500            7\n",
       "3    David   40  New York   65000    500               65500            5\n",
       "4      Eve   45    London   70000    500               70500            3\n",
       "5    Frank   30    Berlin   55000    500               55500            5"
      ]
     },
     "execution_count": 82,
     "metadata": {},
     "output_type": "execute_result"
    }
   ],
   "source": [
    "df['name_length'] = df['name'].str.len()\n",
    "df"
   ]
  },
  {
   "cell_type": "markdown",
   "metadata": {},
   "source": [
    "----\n",
    "\n",
    "## Tutorial 2, Part 3: Sorting, Filtering, and Subsetting\n",
    "\n",
    "\n",
    "----\n",
    "----"
   ]
  },
  {
   "cell_type": "markdown",
   "metadata": {},
   "source": [
    "## Comparing `loc` and `iloc` for DataFrame Filtering in Pandas\n",
    "\n",
    "### Key Distinctions\n",
    "\n",
    "- **Range End Inclusion**: In `iloc`, the end value of a specified range is exclusive, aligning it with Python's standard slicing syntax. On the other hand, `loc` includes the end value in the range.\n",
    "  \n",
    "- **Indexer Types**: `iloc` only accepts integer-based indexers or integer arrays. In contrast, `loc` permits label-based indexers and boolean conditions.\n",
    "\n",
    "- **Output Format**: When using either `loc` or `iloc` with a single bracket (e.g., `df.loc[2]` or `df.iloc[2]`), the result is a Series. To obtain a DataFrame instead, employ double brackets (e.g., `df.loc[[2]]` or `df.iloc[[2]]`).\n",
    "\n",
    "- **Indexing Order**: Both `loc` and `iloc` follow a row-first, column-second ordering scheme, which deviates from Python's native column-first, row-second pattern.\n",
    "\n",
    "- **Flexibility and Constraints**: `loc` provides more versatility in indexing by accepting labels and boolean conditions. `iloc`, being more restrictive, accepts only integers."
   ]
  }
 ],
 "metadata": {
  "kernelspec": {
   "display_name": "ag_policy",
   "language": "python",
   "name": "python3"
  },
  "language_info": {
   "codemirror_mode": {
    "name": "ipython",
    "version": 3
   },
   "file_extension": ".py",
   "mimetype": "text/x-python",
   "name": "python",
   "nbconvert_exporter": "python",
   "pygments_lexer": "ipython3",
   "version": "3.9.13"
  },
  "orig_nbformat": 4
 },
 "nbformat": 4,
 "nbformat_minor": 2
}
